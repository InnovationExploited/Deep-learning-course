{
 "cells": [
  {
   "cell_type": "markdown",
   "metadata": {},
   "source": [
    "# 01 - Digit Generation 🔢\n",
    "\n",
    "---\n",
    "\n",
    "![](https://images.unsplash.com/photo-1502570149819-b2260483d302?ixlib=rb-1.2.1&ixid=eyJhcHBfaWQiOjEyMDd9&auto=format&fit=crop&w=1050&q=80)\n",
    "\n",
    "Photo by [Nick Hillier](https://unsplash.com/photos/yD5rv8_WzxA)\n"
   ]
  },
  {
   "cell_type": "markdown",
   "metadata": {},
   "source": [
    "---"
   ]
  },
  {
   "cell_type": "markdown",
   "metadata": {},
   "source": [
    "# A GAN to generate digits"
   ]
  },
  {
   "cell_type": "markdown",
   "metadata": {},
   "source": [
    "In this exercise, you will be asked to :\n",
    "- complete the code to create your first GAN\n",
    "- train a GAN to generate digits based on the MNIST dataset\n",
    "\n",
    "You should be able to generate new digits by the end of the exercise. This exercise can be run locally, but you can also go for a notebook in Google Colab for example."
   ]
  },
  {
   "cell_type": "code",
   "execution_count": 7,
   "metadata": {
    "ExecuteTime": {
     "end_time": "2019-05-30T12:24:28.715849Z",
     "start_time": "2019-05-30T12:24:28.706796Z"
    }
   },
   "outputs": [
    {
     "name": "stderr",
     "output_type": "stream",
     "text": [
      "Using TensorFlow backend.\n"
     ]
    }
   ],
   "source": [
    "import matplotlib.pyplot as plt\n",
    "import numpy as np\n",
    "import pandas as pd\n",
    "import matplotlib.image as mpimg\n",
    "from keras.datasets import mnist"
   ]
  },
  {
   "cell_type": "markdown",
   "metadata": {
    "ExecuteTime": {
     "end_time": "2019-05-29T16:33:17.276747Z",
     "start_time": "2019-05-29T16:33:17.272840Z"
    }
   },
   "source": [
    "## I. Input data"
   ]
  },
  {
   "cell_type": "markdown",
   "metadata": {},
   "source": [
    "In this GAN example, we're going to use the MNIST dataset. MNIST is a set of handwritten digits. We'll try to generate new digit samples using GANs.\n",
    "\n",
    "We kindly remind you how to load the data 🙂"
   ]
  },
  {
   "cell_type": "code",
   "execution_count": 32,
   "metadata": {
    "ExecuteTime": {
     "end_time": "2019-05-30T12:24:30.426759Z",
     "start_time": "2019-05-30T12:24:29.727444Z"
    }
   },
   "outputs": [],
   "source": [
    "(X_train, _), (_, _) = mnist.load_data()\n",
    "\n",
    "# Some useful variables\n",
    "img_rows = 28\n",
    "img_cols = 28\n",
    "channels = 1\n",
    "img_shape = (img_rows, img_cols, channels)"
   ]
  },
  {
   "cell_type": "markdown",
   "metadata": {},
   "source": [
    "**Q1**. Rescale the data from -1 to 1 and format the X_train dataset in order to have the proper dimensions\n",
    "\n",
    "> 🔦 **Hint**: Remember, the MNIST dataset is grayscale so contains only one channel but Keras expects input images to have 3 dimensions even if there is only one channel."
   ]
  },
  {
   "cell_type": "code",
   "execution_count": 33,
   "metadata": {
    "ExecuteTime": {
     "end_time": "2019-05-30T12:24:30.426759Z",
     "start_time": "2019-05-30T12:24:29.727444Z"
    }
   },
   "outputs": [],
   "source": [
    "# TODO: Rescale -1 to 1 and format the X_train dataset\n",
    "### STRIP_START ###\n",
    "X_train = (X_train.astype(np.float32) - 127.5) / 127.5\n",
    "X_train = np.expand_dims(X_train, axis=3)\n",
    "### STRIP_END ###"
   ]
  },
  {
   "cell_type": "markdown",
   "metadata": {},
   "source": [
    "**Q2**.Visualize one of the image"
   ]
  },
  {
   "cell_type": "code",
   "execution_count": 34,
   "metadata": {
    "ExecuteTime": {
     "end_time": "2019-05-30T12:24:30.753018Z",
     "start_time": "2019-05-30T12:24:30.440877Z"
    },
    "scrolled": true
   },
   "outputs": [
    {
     "data": {
      "image/png": "[encoded data removed]",
      "text/plain": [
       "<Figure size 288x288 with 1 Axes>"
      ]
     },
     "metadata": {
      "needs_background": "light"
     },
     "output_type": "display_data"
    }
   ],
   "source": [
    "### STRIP_START ###\n",
    "plt.figure(figsize=(4,4))\n",
    "plt.imshow(X_train[3].reshape(img_rows,img_cols), cmap=\"gray\")\n",
    "plt.axis(\"off\")\n",
    "plt.show()\n",
    "### STRIP_END ###"
   ]
  },
  {
   "cell_type": "markdown",
   "metadata": {
    "ExecuteTime": {
     "end_time": "2019-05-29T16:33:17.276747Z",
     "start_time": "2019-05-29T16:33:17.272840Z"
    }
   },
   "source": [
    "## II. Build the GAN"
   ]
  },
  {
   "cell_type": "code",
   "execution_count": 35,
   "metadata": {
    "ExecuteTime": {
     "end_time": "2019-05-30T12:24:31.385068Z",
     "start_time": "2019-05-30T12:24:31.374005Z"
    }
   },
   "outputs": [],
   "source": [
    "from keras.layers import Input, Dense, Reshape, Flatten, Dropout\n",
    "from keras.layers import BatchNormalization, Activation, ZeroPadding2D\n",
    "from keras.layers.advanced_activations import LeakyReLU\n",
    "from keras.layers.convolutional import UpSampling2D, Conv2D\n",
    "from keras.models import Sequential, Model\n",
    "from keras.optimizers import Adam"
   ]
  },
  {
   "cell_type": "markdown",
   "metadata": {},
   "source": [
    "### a. The Generator"
   ]
  },
  {
   "cell_type": "markdown",
   "metadata": {},
   "source": [
    "**Q1**. The first step is to build a generator. For the generator, we start with an **input noise shape of size 100**. We then create a sequential model to increase the size of the data up to 1024, before reshaping the data back to the input image shape.\n",
    "\n",
    "Each layer will be made of:\n",
    "- A **Dense layer** (sizes 256, 512, 1024 in order)\n",
    "- A **LeakyRelu activation** with alpha = 0.2\n",
    "- A **Batch normalization** (momentum = 0.8)"
   ]
  },
  {
   "cell_type": "code",
   "execution_count": 39,
   "metadata": {
    "ExecuteTime": {
     "end_time": "2019-05-30T12:24:32.487781Z",
     "start_time": "2019-05-30T12:24:32.468680Z"
    }
   },
   "outputs": [],
   "source": [
    "def build_generator():\n",
    "    # Input Data\n",
    "    noise_shape = (100,)\n",
    "    noise = Input(shape=noise_shape)\n",
    "    \n",
    "    # Create the sequential model\n",
    "    ### STRIP_START ###\n",
    "    model = Sequential()\n",
    "    ### STRIP_END ###\n",
    "\n",
    "    # Build the first layer\n",
    "    ### STRIP_START ###\n",
    "    model.add(Dense(256, input_shape=noise_shape))\n",
    "    model.add(LeakyReLU(alpha=0.2))\n",
    "    model.add(BatchNormalization(momentum=0.8))\n",
    "    ### STRIP_END ###\n",
    "    \n",
    "    # Second layer\n",
    "    ### STRIP_START ###\n",
    "    model.add(Dense(512))\n",
    "    model.add(LeakyReLU(alpha=0.2))\n",
    "    model.add(BatchNormalization(momentum=0.8))\n",
    "    ### STRIP_END ###\n",
    "    \n",
    "    # Third layer\n",
    "    ### STRIP_START ###\n",
    "    model.add(Dense(1024))\n",
    "    model.add(LeakyReLU(alpha=0.2))\n",
    "    model.add(BatchNormalization(momentum=0.8))\n",
    "    ### STRIP_END ###\n",
    "    \n",
    "    # Flatten and reshape\n",
    "    ### STRIP_START ###\n",
    "    model.add(Dense(np.prod(img_shape), activation='tanh'))\n",
    "    model.add(Reshape(img_shape))\n",
    "    ### STRIP_END ###\n",
    "\n",
    "    # Get model summary\n",
    "    ### STRIP_START ###\n",
    "    img = model(noise)\n",
    "    model.summary()\n",
    "    ### STRIP_END ###\n",
    "    \n",
    "    return Model(noise, img)"
   ]
  },
  {
   "cell_type": "markdown",
   "metadata": {},
   "source": [
    "**Q2**. Compile the Generator and add an Adam optimizer as advised."
   ]
  },
  {
   "cell_type": "code",
   "execution_count": 40,
   "metadata": {
    "ExecuteTime": {
     "end_time": "2019-05-30T12:24:34.447550Z",
     "start_time": "2019-05-30T12:24:33.386567Z"
    }
   },
   "outputs": [
    {
     "name": "stdout",
     "output_type": "stream",
     "text": [
      "_________________________________________________________________\n",
      "Layer (type)                 Output Shape              Param #   \n",
      "=================================================================\n",
      "dense_5 (Dense)              (None, 256)               25856     \n",
      "_________________________________________________________________\n",
      "leaky_re_lu_4 (LeakyReLU)    (None, 256)               0         \n",
      "_________________________________________________________________\n",
      "batch_normalization_4 (Batch (None, 256)               1024      \n",
      "_________________________________________________________________\n",
      "dense_6 (Dense)              (None, 512)               131584    \n",
      "_________________________________________________________________\n",
      "leaky_re_lu_5 (LeakyReLU)    (None, 512)               0         \n",
      "_________________________________________________________________\n",
      "batch_normalization_5 (Batch (None, 512)               2048      \n",
      "_________________________________________________________________\n",
      "dense_7 (Dense)              (None, 1024)              525312    \n",
      "_________________________________________________________________\n",
      "leaky_re_lu_6 (LeakyReLU)    (None, 1024)              0         \n",
      "_________________________________________________________________\n",
      "batch_normalization_6 (Batch (None, 1024)              4096      \n",
      "_________________________________________________________________\n",
      "dense_8 (Dense)              (None, 784)               803600    \n",
      "_________________________________________________________________\n",
      "reshape_2 (Reshape)          (None, 28, 28, 1)         0         \n",
      "=================================================================\n",
      "Total params: 1,493,520\n",
      "Trainable params: 1,489,936\n",
      "Non-trainable params: 3,584\n",
      "_________________________________________________________________\n"
     ]
    }
   ],
   "source": [
    "### STRIP_START ###\n",
    "optimizer = Adam(0.0002, 0.5)\n",
    "generator = build_generator()\n",
    "generator.compile(\n",
    "    loss='binary_crossentropy', \n",
    "    optimizer=optimizer)\n",
    "### STRIP_END###"
   ]
  },
  {
   "cell_type": "markdown",
   "metadata": {},
   "source": [
    "### b. The Discriminator"
   ]
  },
  {
   "cell_type": "markdown",
   "metadata": {},
   "source": [
    "**Q3**. Build the discriminator. It takes an input that has the shape of the image. The steps are the following :\n",
    "- Declare the **Sequential** model\n",
    "- **Flatten** the images (with input shape = image shape)\n",
    "- Add a **Dense layer** of 512 and a **Leaky Relu** (0.2)\n",
    "- Add a **Dense layer** of 256 and a **Leaky Relu** (0.2)\n",
    "- Add a **Dense layer** of size 1. What activation function would you use ?"
   ]
  },
  {
   "cell_type": "code",
   "execution_count": 41,
   "metadata": {
    "ExecuteTime": {
     "end_time": "2019-05-30T12:24:34.899788Z",
     "start_time": "2019-05-30T12:24:34.885304Z"
    }
   },
   "outputs": [],
   "source": [
    "def build_discriminator():\n",
    "    \n",
    "    img = Input(shape=img_shape)\n",
    "\n",
    "    # Create the sequential model\n",
    "    model = Sequential()\n",
    "    \n",
    "    # Flatten the images taken as inputs\n",
    "    ### STRIP_START ###\n",
    "    model.add(Flatten(input_shape=img_shape))\n",
    "    ### STRIP_END ###\n",
    "    \n",
    "    # First layer\n",
    "    ### STRIP_START ###\n",
    "    model.add(Dense(512))\n",
    "    model.add(LeakyReLU(alpha=0.2))\n",
    "    ### STRIP_END ###\n",
    "    \n",
    "    # Second layer\n",
    "    ### STRIP_START ###\n",
    "    model.add(Dense(256))\n",
    "    model.add(LeakyReLU(alpha=0.2))\n",
    "    ### STRIP_END ###\n",
    "    \n",
    "    # Last layer, return either 0 or 1\n",
    "    ### STRIP_START ###\n",
    "    model.add(Dense(1, activation='sigmoid'))\n",
    "    ### STRIP_END ###\n",
    "    \n",
    "    # Get model summary\n",
    "    ### STRIP_START ###\n",
    "    validity = model(img)\n",
    "    model.summary()\n",
    "    ### STRIP_END ###\n",
    "    \n",
    "    return Model(img, validity)"
   ]
  },
  {
   "cell_type": "markdown",
   "metadata": {},
   "source": [
    "**Q4**. Now compile the discriminator. (Observe the metric we are using)"
   ]
  },
  {
   "cell_type": "code",
   "execution_count": 42,
   "metadata": {
    "ExecuteTime": {
     "end_time": "2019-05-30T12:24:35.562291Z",
     "start_time": "2019-05-30T12:24:35.358591Z"
    },
    "scrolled": true
   },
   "outputs": [
    {
     "name": "stdout",
     "output_type": "stream",
     "text": [
      "_________________________________________________________________\n",
      "Layer (type)                 Output Shape              Param #   \n",
      "=================================================================\n",
      "flatten_1 (Flatten)          (None, 784)               0         \n",
      "_________________________________________________________________\n",
      "dense_9 (Dense)              (None, 512)               401920    \n",
      "_________________________________________________________________\n",
      "leaky_re_lu_7 (LeakyReLU)    (None, 512)               0         \n",
      "_________________________________________________________________\n",
      "dense_10 (Dense)             (None, 256)               131328    \n",
      "_________________________________________________________________\n",
      "leaky_re_lu_8 (LeakyReLU)    (None, 256)               0         \n",
      "_________________________________________________________________\n",
      "dense_11 (Dense)             (None, 1)                 257       \n",
      "=================================================================\n",
      "Total params: 533,505\n",
      "Trainable params: 533,505\n",
      "Non-trainable params: 0\n",
      "_________________________________________________________________\n"
     ]
    }
   ],
   "source": [
    "### STRIP_START ###\n",
    "discriminator = build_discriminator()\n",
    "discriminator.compile(\n",
    "            loss='binary_crossentropy',\n",
    "            optimizer=optimizer,\n",
    "            metrics=['accuracy'])\n",
    "\n",
    "### STRIP_END ###"
   ]
  },
  {
   "cell_type": "markdown",
   "metadata": {},
   "source": [
    "### c. Build the GAN model"
   ]
  },
  {
   "cell_type": "markdown",
   "metadata": {},
   "source": [
    "**Q5**. Now it is time to build **the GAN model**. This is done in 4 major steps :\n",
    "- Declare the input\n",
    "- Set the image as the result of the generator of the input\n",
    "- Set the output as the result of the discriminator of the generated image\n",
    "- Define and compile the model"
   ]
  },
  {
   "cell_type": "code",
   "execution_count": 43,
   "metadata": {
    "ExecuteTime": {
     "end_time": "2019-05-30T12:24:37.952337Z",
     "start_time": "2019-05-30T12:24:37.220696Z"
    }
   },
   "outputs": [],
   "source": [
    "# 1. Declare input of size (100, )\n",
    "### STRIP_START ###\n",
    "z = Input(shape=(100,))\n",
    "### STRIP_END ###\n",
    "\n",
    "# 2. Define the generated image from the input\n",
    "# Hint : Use the generator model compiled above\n",
    "### STRIP_START ###\n",
    "img = generator(z)\n",
    "### STRIP_END ###\n",
    "\n",
    "# 3. Define the output from the image\n",
    "# Hint : Use the discriminator model compiled above\n",
    "### STRIP_START ###\n",
    "valid = discriminator(img)\n",
    "### STRIP_END ###\n",
    "\n",
    "# For the combined model, only train the generator\n",
    "discriminator.trainable = False\n",
    "\n",
    "# 4.Combined model\n",
    "# Create the model by defining the input and the output\n",
    "### STRIP_START ###\n",
    "combined = Model(z, valid)\n",
    "### STRIP_END ###\n",
    "# Once created, we compile the model\n",
    "combined.compile(loss='binary_crossentropy', optimizer=optimizer)"
   ]
  },
  {
   "cell_type": "markdown",
   "metadata": {},
   "source": [
    "**Q6**. Print the summary of the new model created. Comment on the shapes at each layer."
   ]
  },
  {
   "cell_type": "code",
   "execution_count": 44,
   "metadata": {
    "ExecuteTime": {
     "end_time": "2019-05-30T12:24:38.640080Z",
     "start_time": "2019-05-30T12:24:38.626886Z"
    }
   },
   "outputs": [
    {
     "name": "stdout",
     "output_type": "stream",
     "text": [
      "_________________________________________________________________\n",
      "Layer (type)                 Output Shape              Param #   \n",
      "=================================================================\n",
      "input_4 (InputLayer)         (None, 100)               0         \n",
      "_________________________________________________________________\n",
      "model_2 (Model)              (None, 28, 28, 1)         1493520   \n",
      "_________________________________________________________________\n",
      "model_3 (Model)              (None, 1)                 533505    \n",
      "=================================================================\n",
      "Total params: 2,027,025\n",
      "Trainable params: 1,489,936\n",
      "Non-trainable params: 537,089\n",
      "_________________________________________________________________\n"
     ]
    }
   ],
   "source": [
    "### STRIP_START ###\n",
    "combined.summary()\n",
    "### STRIP_END ###"
   ]
  },
  {
   "cell_type": "markdown",
   "metadata": {},
   "source": [
    "We then define a function that is used to save generated images once in a while."
   ]
  },
  {
   "cell_type": "code",
   "execution_count": 45,
   "metadata": {
    "ExecuteTime": {
     "end_time": "2019-05-30T12:24:41.361699Z",
     "start_time": "2019-05-30T12:24:41.349843Z"
    }
   },
   "outputs": [],
   "source": [
    "def save_imgs(epoch):\n",
    "    \n",
    "    # Predict from input noise\n",
    "    r, c = 5, 5\n",
    "    noise = np.random.normal(0, 1, (r * c, 100))\n",
    "    gen_imgs = generator.predict(noise)\n",
    "\n",
    "    # Rescale images 0 - 1\n",
    "    gen_imgs = 0.5 * gen_imgs + 0.5\n",
    "    \n",
    "    # Subplots\n",
    "    fig, axs = plt.subplots(r, c)\n",
    "    cnt = 0\n",
    "    \n",
    "    for i in range(r):\n",
    "        for j in range(c):\n",
    "            axs[i,j].imshow(gen_imgs[cnt, :,:,0], cmap='gray')\n",
    "            axs[i,j].axis('off')\n",
    "            cnt += 1\n",
    " \n",
    "    fig.savefig(\"images_gan/mnist_%d.png\" % epoch)\n",
    "    plt.close()"
   ]
  },
  {
   "cell_type": "markdown",
   "metadata": {},
   "source": [
    "## III. Train the model"
   ]
  },
  {
   "cell_type": "markdown",
   "metadata": {},
   "source": [
    "First of all, we set :\n",
    "- the number of epochs the model will train to 15'000\n",
    "- the batch size to 64\n",
    "- the interval at which we save the images to 1000"
   ]
  },
  {
   "cell_type": "code",
   "execution_count": 46,
   "metadata": {
    "ExecuteTime": {
     "end_time": "2019-05-30T12:28:50.729562Z",
     "start_time": "2019-05-30T12:28:50.722302Z"
    }
   },
   "outputs": [],
   "source": [
    "epochs = 15000\n",
    "batch_size = 64\n",
    "save_interval = 1000\n",
    "half_batch = int(batch_size / 2)"
   ]
  },
  {
   "cell_type": "markdown",
   "metadata": {},
   "source": [
    "The following code is complete. Try to understand the different steps, debug potential errors from your previous code and compile it. "
   ]
  },
  {
   "cell_type": "code",
   "execution_count": 48,
   "metadata": {},
   "outputs": [],
   "source": [
    "# If the directory to save the images does not exist create it \n",
    "!mkdir images_gan"
   ]
  },
  {
   "cell_type": "code",
   "execution_count": null,
   "metadata": {
    "ExecuteTime": {
     "end_time": "2019-05-30T12:51:49.635827Z",
     "start_time": "2019-05-30T12:33:29.842168Z"
    },
    "code_folding": []
   },
   "outputs": [],
   "source": [
    "d_loss_hist = []\n",
    "g_loss_hist = []\n",
    "d_acc = []\n",
    "\n",
    "for epoch in range(epochs):\n",
    "\n",
    "    # ---------------------\n",
    "    #  Train Discriminator\n",
    "    # ---------------------\n",
    "    \n",
    "    # Pick 50% of sample images\n",
    "    idx = np.random.randint(0, X_train.shape[0], half_batch)\n",
    "    imgs = X_train[idx]\n",
    "\n",
    "    # Generate 50% of new images\n",
    "    noise = np.random.normal(0, 1, (half_batch, 100))\n",
    "    gen_imgs = generator.predict(noise)\n",
    "    \n",
    "    \n",
    "    # Train discriminator on real images with label 1\n",
    "    d_loss_real = discriminator.train_on_batch(imgs, np.ones((half_batch, 1)))\n",
    "    \n",
    "    # Train discriminator on fake images with label 0\n",
    "    d_loss_fake = discriminator.train_on_batch(gen_imgs, np.zeros((half_batch, 1)))\n",
    "    \n",
    "    # Loss of discriminator = Mean of Real and Fake loss\n",
    "    d_loss = 0.5 * np.add(d_loss_real, d_loss_fake)\n",
    "    \n",
    "    d_loss_hist.append(d_loss[0])\n",
    "    d_acc.append(d_loss[1])\n",
    "    \n",
    "    # ---------------------\n",
    "    #  Train Generator\n",
    "    # ---------------------\n",
    "\n",
    "    # The generator wants the discriminator to label the generated samples as valid (ones)\n",
    "    noise = np.random.normal(0, 1, (batch_size, 100))\n",
    "    valid_y = np.array([1] * batch_size)\n",
    "\n",
    "    # Train the generator\n",
    "    g_loss = combined.train_on_batch(noise, valid_y)\n",
    "    g_loss_hist.append(g_loss)\n",
    "    \n",
    "    # Print the progress\n",
    "    print (\"%d [D loss: %f, acc.: %.2f%%] [G loss: %f]\" % (epoch, d_loss[0], 100*d_loss[1], g_loss))\n",
    "        \n",
    "    if epoch % save_interval == 0:\n",
    "        save_imgs(epoch)"
   ]
  },
  {
   "cell_type": "markdown",
   "metadata": {},
   "source": [
    "## IV. Create new samples"
   ]
  },
  {
   "cell_type": "markdown",
   "metadata": {},
   "source": [
    "**Q7**. We now have all the elements required to generate new samples. What are according to you :\n",
    "- the steps to generate new samples ?\n",
    "- the part of the network we re-use ?"
   ]
  },
  {
   "cell_type": "markdown",
   "metadata": {},
   "source": [
    "**Q8**. You are now asked to generate and visualize new samples from the steps you defined above. Pay attention when plotting generated images to :\n",
    "- rescale the images between 0 and 1 (as done previously)\n",
    "- reshape the generated image to 28*28"
   ]
  },
  {
   "cell_type": "code",
   "execution_count": 54,
   "metadata": {
    "ExecuteTime": {
     "end_time": "2019-06-02T18:25:42.255461Z",
     "start_time": "2019-06-02T18:25:41.959038Z"
    }
   },
   "outputs": [
    {
     "data": {
      "image/png": "[encoded data removed]",
      "text/plain": [
       "<Figure size 432x288 with 1 Axes>"
      ]
     },
     "metadata": {
      "needs_background": "light"
     },
     "output_type": "display_data"
    }
   ],
   "source": [
    "### STRIP_START ###\n",
    "noise = np.random.normal(0, 1, (1, 100))\n",
    "gen_imgs = generator.predict(noise)\n",
    "gen_imgs = 0.5 * gen_imgs + 0.5\n",
    "plt.imshow(gen_imgs.reshape(28,28), cmap=\"gray\")\n",
    "plt.axis(\"off\")\n",
    "plt.show()\n",
    "### STRIP_END ###"
   ]
  }
 ],
 "metadata": {
  "kernelspec": {
   "display_name": "Python 3",
   "language": "python",
   "name": "python3"
  },
  "language_info": {
   "codemirror_mode": {
    "name": "ipython",
    "version": 3
   },
   "file_extension": ".py",
   "mimetype": "text/x-python",
   "name": "python",
   "nbconvert_exporter": "python",
   "pygments_lexer": "ipython3",
   "version": "3.7.3"
  },
  "latex_envs": {
   "LaTeX_envs_menu_present": true,
   "autoclose": false,
   "autocomplete": true,
   "bibliofile": "biblio.bib",
   "cite_by": "apalike",
   "current_citInitial": 1,
   "eqLabelWithNumbers": true,
   "eqNumInitial": 1,
   "hotkeys": {
    "equation": "Ctrl-E",
    "itemize": "Ctrl-I"
   },
   "labels_anchors": false,
   "latex_user_defs": false,
   "report_style_numbering": false,
   "user_envs_cfg": false
  }
 },
 "nbformat": 4,
 "nbformat_minor": 2
}
