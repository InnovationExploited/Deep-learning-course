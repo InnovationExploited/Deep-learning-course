{
 "cells": [
  {
   "cell_type": "markdown",
   "metadata": {},
   "source": [
    "# 01-CIFAR10"
   ]
  },
  {
   "cell_type": "markdown",
   "metadata": {},
   "source": [
    "![](https://images.unsplash.com/photo-1493723843671-1d655e66ac1c?ixlib=rb-1.2.1&ixid=eyJhcHBfaWQiOjEyMDd9&auto=format&fit=crop&w=1050&q=80)\n",
    "\n",
    "Photo by [LUM3N](https://unsplash.com/photos/-RBuQ2PK_L8)\n"
   ]
  },
  {
   "cell_type": "markdown",
   "metadata": {},
   "source": [
    "We will work on the CIFAR10 dataset. If you want to know more about this dataset, you can check information [here](https://www.cs.toronto.edu/~kriz/cifar.html)."
   ]
  },
  {
   "cell_type": "markdown",
   "metadata": {},
   "source": [
    "You can download the CIFAR10 dataset using Keras. To know how to do it, check [here](https://keras.io/datasets/). If the memory of your laptop is not big (e.g. 4GB), take only a subsample of the CIFAR10 dataset: for example 10000 samples in train and 2000 in test."
   ]
  },
  {
   "cell_type": "code",
   "execution_count": 29,
   "metadata": {},
   "outputs": [],
   "source": [
    "from keras.datasets import cifar10\n",
    "\n",
    "(X_train, y_train), (X_test, y_test) = cifar10.load_data()\n",
    "\n",
    "X_train = X_train[:10000]\n",
    "y_train = y_train[:10000]\n",
    "X_test = X_test[:2000]\n",
    "y_test = y_test[:2000]"
   ]
  },
  {
   "cell_type": "markdown",
   "metadata": {},
   "source": [
    "Now inspect the data, check the number of images, their sizes, and display some of them."
   ]
  },
  {
   "cell_type": "code",
   "execution_count": 30,
   "metadata": {
    "scrolled": false
   },
   "outputs": [
    {
     "data": {
      "image/png": "[encoded data removed]",
      "text/plain": [
       "<Figure size 432x288 with 1 Axes>"
      ]
     },
     "metadata": {
      "needs_background": "light"
     },
     "output_type": "display_data"
    }
   ],
   "source": [
    "# TODO: Explore the data, display some input images\n",
    "### STRIP_START ###\n",
    "import matplotlib.pyplot as plt\n",
    "import numpy as np\n",
    "\n",
    "label_class = ['airplane', 'automobile', 'bird', 'cat', 'deer', 'dog', 'frog', 'horse', 'ship', 'truck']\n",
    "\n",
    "idx = np.random.randint(X_train.shape[0])\n",
    "\n",
    "plt.imshow(X_train[idx])#, cmap='gray_r')\n",
    "plt.title(label_class[y_train[idx][0]])\n",
    "plt.show()\n",
    "### STRIP_END ###"
   ]
  },
  {
   "cell_type": "markdown",
   "metadata": {},
   "source": [
    "Make the data preprocessing now: rescale the input data, put the labels to one hot encoding."
   ]
  },
  {
   "cell_type": "code",
   "execution_count": 31,
   "metadata": {},
   "outputs": [],
   "source": [
    "# TODO: Make the data preparation\n",
    "### STRIP_START ###\n",
    "from keras.utils import to_categorical\n",
    "\n",
    "y_train = to_categorical(y_train, num_classes=10)\n",
    "y_test = to_categorical(y_test, num_classes=10)\n",
    "\n",
    "X_train = X_train/255.\n",
    "X_test = X_test/255.\n",
    "\n",
    "X_train = X_train.reshape(X_train.shape[0], np.prod(X_train.shape[1:]))\n",
    "X_test = X_test.reshape(X_test.shape[0], np.prod(X_test.shape[1:]))\n",
    "### STRIP_END ###"
   ]
  },
  {
   "cell_type": "markdown",
   "metadata": {},
   "source": [
    "Now build your model with Keras. Build your neural network architecture.\n",
    "\n",
    "Again, begin with a quite light architecture with 3 hidden layers and 30 units per layer."
   ]
  },
  {
   "cell_type": "code",
   "execution_count": 32,
   "metadata": {},
   "outputs": [],
   "source": [
    "# TODO: Build your model\n",
    "### STRIP_START ###\n",
    "from keras.models import Sequential\n",
    "from keras.layers import Dense\n",
    "from keras import regularizers\n",
    "\n",
    "def my_model(input_dim, regul):\n",
    "    # Create the Sequential object\n",
    "    model = Sequential()\n",
    "\n",
    "    # Add the first Dense layers of 10 units with the input dimension\n",
    "    model.add(Dense(30, input_dim=input_dim, name=\"0\", activation='relu', kernel_regularizer=regularizers.l2(regul)))\n",
    "    model.add(Dense(30, activation='relu', name=\"1\", kernel_regularizer=regularizers.l2(regul)))\n",
    "    model.add(Dense(30, activation='relu', name=\"2\", kernel_regularizer=regularizers.l2(regul)))\n",
    "\n",
    "    # Add the output layer with one unit: the predicted result\n",
    "    model.add(Dense(10, activation='softmax', name=\"3\", kernel_regularizer=regularizers.l2(regul)))\n",
    "    \n",
    "    return model\n",
    "### STRIP_END ###"
   ]
  },
  {
   "cell_type": "markdown",
   "metadata": {},
   "source": [
    "Now compile and fit your model on your training data. Add callbacks to have early stopping (with a patience of 30 epochs for example) and tensorboard information."
   ]
  },
  {
   "cell_type": "code",
   "execution_count": 33,
   "metadata": {
    "scrolled": true
   },
   "outputs": [
    {
     "name": "stdout",
     "output_type": "stream",
     "text": [
      "Train on 10000 samples, validate on 2000 samples\n",
      "Epoch 1/100\n",
      "10000/10000 [==============================] - 1s 90us/step - loss: 2.2072 - val_loss: 2.1879\n",
      "Epoch 2/100\n",
      "10000/10000 [==============================] - 1s 57us/step - loss: 2.0233 - val_loss: 1.9706\n",
      "Epoch 3/100\n",
      "10000/10000 [==============================] - 1s 57us/step - loss: 1.9542 - val_loss: 1.9427\n",
      "Epoch 4/100\n",
      "10000/10000 [==============================] - 1s 63us/step - loss: 1.9326 - val_loss: 1.9167\n",
      "Epoch 5/100\n",
      "10000/10000 [==============================] - 1s 56us/step - loss: 1.9107 - val_loss: 1.9642\n",
      "Epoch 6/100\n",
      "10000/10000 [==============================] - 1s 55us/step - loss: 1.9055 - val_loss: 1.9028\n",
      "Epoch 7/100\n",
      "10000/10000 [==============================] - 1s 55us/step - loss: 1.8944 - val_loss: 1.8948\n",
      "Epoch 8/100\n",
      "10000/10000 [==============================] - 1s 54us/step - loss: 1.8869 - val_loss: 1.9472\n",
      "Epoch 9/100\n",
      "10000/10000 [==============================] - 1s 68us/step - loss: 1.8781 - val_loss: 1.8958\n",
      "Epoch 10/100\n",
      "10000/10000 [==============================] - 1s 60us/step - loss: 1.8610 - val_loss: 1.8580\n",
      "Epoch 11/100\n",
      "10000/10000 [==============================] - 1s 57us/step - loss: 1.8535 - val_loss: 1.8698\n",
      "Epoch 12/100\n",
      "10000/10000 [==============================] - 1s 65us/step - loss: 1.8487 - val_loss: 1.8570\n",
      "Epoch 13/100\n",
      "10000/10000 [==============================] - 1s 66us/step - loss: 1.8393 - val_loss: 1.8688\n",
      "Epoch 14/100\n",
      "10000/10000 [==============================] - 1s 70us/step - loss: 1.8268 - val_loss: 1.8346\n",
      "Epoch 15/100\n",
      "10000/10000 [==============================] - 1s 66us/step - loss: 1.8231 - val_loss: 1.8408\n",
      "Epoch 16/100\n",
      "10000/10000 [==============================] - 1s 54us/step - loss: 1.8271 - val_loss: 1.8423\n",
      "Epoch 17/100\n",
      "10000/10000 [==============================] - 1s 76us/step - loss: 1.8187 - val_loss: 1.8573\n",
      "Epoch 18/100\n",
      "10000/10000 [==============================] - 1s 60us/step - loss: 1.8117 - val_loss: 1.8374\n",
      "Epoch 19/100\n",
      "10000/10000 [==============================] - 1s 63us/step - loss: 1.8042 - val_loss: 1.8346\n",
      "Epoch 20/100\n",
      "10000/10000 [==============================] - 1s 57us/step - loss: 1.8017 - val_loss: 1.8372\n",
      "Epoch 21/100\n",
      "10000/10000 [==============================] - 1s 56us/step - loss: 1.8043 - val_loss: 1.8208\n",
      "Epoch 22/100\n",
      "10000/10000 [==============================] - 1s 61us/step - loss: 1.7923 - val_loss: 1.8236\n",
      "Epoch 23/100\n",
      "10000/10000 [==============================] - 1s 61us/step - loss: 1.7776 - val_loss: 1.8176\n",
      "Epoch 24/100\n",
      "10000/10000 [==============================] - 1s 61us/step - loss: 1.7811 - val_loss: 1.8350\n",
      "Epoch 25/100\n",
      "10000/10000 [==============================] - 1s 61us/step - loss: 1.7759 - val_loss: 1.8105\n",
      "Epoch 26/100\n",
      "10000/10000 [==============================] - 1s 74us/step - loss: 1.7750 - val_loss: 1.8242\n",
      "Epoch 27/100\n",
      "10000/10000 [==============================] - 1s 65us/step - loss: 1.7863 - val_loss: 1.8310\n",
      "Epoch 28/100\n",
      "10000/10000 [==============================] - 1s 75us/step - loss: 1.7822 - val_loss: 1.8622\n",
      "Epoch 29/100\n",
      "10000/10000 [==============================] - 1s 79us/step - loss: 1.7702 - val_loss: 1.8562\n",
      "Epoch 30/100\n",
      "10000/10000 [==============================] - 1s 58us/step - loss: 1.7668 - val_loss: 1.8318\n",
      "Epoch 31/100\n",
      "10000/10000 [==============================] - 1s 55us/step - loss: 1.7689 - val_loss: 1.8485\n",
      "Epoch 32/100\n",
      "10000/10000 [==============================] - 1s 57us/step - loss: 1.7614 - val_loss: 1.8343\n",
      "Epoch 33/100\n",
      "10000/10000 [==============================] - 1s 63us/step - loss: 1.7539 - val_loss: 1.8094\n",
      "Epoch 34/100\n",
      "10000/10000 [==============================] - 1s 55us/step - loss: 1.7502 - val_loss: 1.8114\n",
      "Epoch 35/100\n",
      "10000/10000 [==============================] - 1s 55us/step - loss: 1.7582 - val_loss: 1.8103\n",
      "Epoch 36/100\n",
      "10000/10000 [==============================] - 1s 54us/step - loss: 1.7463 - val_loss: 1.8212\n",
      "Epoch 37/100\n",
      "10000/10000 [==============================] - 1s 54us/step - loss: 1.7531 - val_loss: 1.8252\n",
      "Epoch 38/100\n",
      "10000/10000 [==============================] - 1s 69us/step - loss: 1.7417 - val_loss: 1.8083\n",
      "Epoch 39/100\n",
      "10000/10000 [==============================] - 1s 55us/step - loss: 1.7435 - val_loss: 1.8849\n",
      "Epoch 40/100\n",
      "10000/10000 [==============================] - 1s 57us/step - loss: 1.7483 - val_loss: 1.8280\n",
      "Epoch 41/100\n",
      "10000/10000 [==============================] - 1s 56us/step - loss: 1.7472 - val_loss: 1.8152\n",
      "Epoch 42/100\n",
      "10000/10000 [==============================] - 1s 56us/step - loss: 1.7424 - val_loss: 1.8234\n",
      "Epoch 43/100\n",
      "10000/10000 [==============================] - 1s 55us/step - loss: 1.7384 - val_loss: 1.8224\n",
      "Epoch 44/100\n",
      "10000/10000 [==============================] - 1s 61us/step - loss: 1.7376 - val_loss: 1.8147\n",
      "Epoch 45/100\n",
      "10000/10000 [==============================] - 1s 54us/step - loss: 1.7329 - val_loss: 1.8212\n",
      "Epoch 46/100\n",
      "10000/10000 [==============================] - 1s 55us/step - loss: 1.7520 - val_loss: 1.8175\n",
      "Epoch 47/100\n",
      "10000/10000 [==============================] - 1s 56us/step - loss: 1.7282 - val_loss: 1.8268\n",
      "Epoch 48/100\n",
      "10000/10000 [==============================] - 1s 61us/step - loss: 1.7283 - val_loss: 1.8381\n",
      "Epoch 49/100\n",
      "10000/10000 [==============================] - 1s 63us/step - loss: 1.7321 - val_loss: 1.8403\n",
      "Epoch 50/100\n",
      "10000/10000 [==============================] - 1s 56us/step - loss: 1.7242 - val_loss: 1.8245\n",
      "Epoch 51/100\n",
      "10000/10000 [==============================] - 1s 58us/step - loss: 1.7361 - val_loss: 1.8461\n",
      "Epoch 52/100\n",
      "10000/10000 [==============================] - 1s 64us/step - loss: 1.7327 - val_loss: 1.9207\n",
      "Epoch 53/100\n",
      "10000/10000 [==============================] - 1s 57us/step - loss: 1.7431 - val_loss: 1.8242\n",
      "Epoch 54/100\n",
      "10000/10000 [==============================] - 1s 55us/step - loss: 1.7204 - val_loss: 1.8238\n",
      "Epoch 55/100\n",
      "10000/10000 [==============================] - 1s 54us/step - loss: 1.7301 - val_loss: 1.9007\n",
      "Epoch 56/100\n",
      "10000/10000 [==============================] - 1s 54us/step - loss: 1.7362 - val_loss: 1.8521\n",
      "Epoch 57/100\n",
      "10000/10000 [==============================] - 1s 55us/step - loss: 1.7431 - val_loss: 1.8833\n",
      "Epoch 58/100\n",
      "10000/10000 [==============================] - 1s 56us/step - loss: 1.7274 - val_loss: 1.8187\n",
      "Epoch 59/100\n",
      "10000/10000 [==============================] - 1s 56us/step - loss: 1.7214 - val_loss: 1.8218\n",
      "Epoch 60/100\n",
      "10000/10000 [==============================] - 1s 56us/step - loss: 1.7270 - val_loss: 1.8108\n",
      "Epoch 61/100\n",
      "10000/10000 [==============================] - 1s 55us/step - loss: 1.7161 - val_loss: 1.8354\n",
      "Epoch 62/100\n",
      "10000/10000 [==============================] - 1s 67us/step - loss: 1.7202 - val_loss: 1.8377\n",
      "Epoch 63/100\n",
      "10000/10000 [==============================] - 1s 58us/step - loss: 1.7183 - val_loss: 1.8399\n",
      "Epoch 64/100\n",
      "10000/10000 [==============================] - 1s 74us/step - loss: 1.7177 - val_loss: 1.8268\n",
      "Epoch 65/100\n",
      "10000/10000 [==============================] - 1s 77us/step - loss: 1.7115 - val_loss: 1.8440\n",
      "Epoch 66/100\n",
      "10000/10000 [==============================] - 1s 74us/step - loss: 1.7140 - val_loss: 1.8490\n",
      "Epoch 67/100\n",
      "10000/10000 [==============================] - 1s 65us/step - loss: 1.7196 - val_loss: 1.8172\n",
      "Epoch 68/100\n",
      "10000/10000 [==============================] - 1s 64us/step - loss: 1.7095 - val_loss: 1.8102\n"
     ]
    },
    {
     "data": {
      "text/plain": [
       "<keras.callbacks.History at 0x7f570a648400>"
      ]
     },
     "execution_count": 33,
     "metadata": {},
     "output_type": "execute_result"
    }
   ],
   "source": [
    "# TODO: Build your model\n",
    "### STRIP_START ###\n",
    "from keras.callbacks import EarlyStopping\n",
    "from keras.callbacks import TensorBoard\n",
    "\n",
    "# Define the model with regularization\n",
    "model = my_model(input_dim=X_train.shape[1], regul=0.0)\n",
    "model.compile(optimizer='adam', loss='categorical_crossentropy')\n",
    "\n",
    "# Define now our callbacks\n",
    "callbacks = [EarlyStopping(monitor='val_loss', patience=30),\n",
    "             TensorBoard(log_dir='./Graph', histogram_freq=0, write_graph=True, write_images=True)]\n",
    "\n",
    "# Finally fit the model\n",
    "model.fit(x=X_train, y=y_train, validation_data=(X_test, y_test), epochs=100, batch_size=64, callbacks=callbacks)\n",
    "### STRIP_END ###"
   ]
  },
  {
   "cell_type": "markdown",
   "metadata": {},
   "source": [
    "Compute the accuracy of your model once it has been trained."
   ]
  },
  {
   "cell_type": "code",
   "execution_count": 34,
   "metadata": {},
   "outputs": [
    {
     "name": "stdout",
     "output_type": "stream",
     "text": [
      "accuracy on train with NN: 0.387\n",
      "accuracy on test with NN: 0.3525\n"
     ]
    }
   ],
   "source": [
    "# TODO: Compute the accuracy of your model\n",
    "### STRIP_START ###\n",
    "from sklearn.metrics import accuracy_score\n",
    "\n",
    "y_pred_train = to_categorical(model.predict(X_train).argmax(axis=1), num_classes=10)\n",
    "y_pred_test = to_categorical(model.predict(X_test).argmax(axis=1), num_classes=10)\n",
    "\n",
    "print('accuracy on train with NN:', accuracy_score(y_pred_train, y_train))\n",
    "print('accuracy on test with NN:', accuracy_score(y_pred_test, y_test))\n",
    "### STRIP_END ###"
   ]
  },
  {
   "cell_type": "markdown",
   "metadata": {},
   "source": [
    "What do you think of those results? Can you improve it by changing the number of layers? Of units per layer? The number of epochs? Feel free to try."
   ]
  },
  {
   "cell_type": "markdown",
   "metadata": {},
   "source": [
    "To have a better understanding of your model, you can also check the learning curves on TensorBoard and interpret them."
   ]
  },
  {
   "cell_type": "markdown",
   "metadata": {},
   "source": [
    "One solution to improve your model might be data augmentation. For example, we can flip horizontally our images. Basically, this would be like watching them into a mirror.\n",
    "\n",
    "To do so, you can use numpy method `flip` for example, and then display a flipped image and the regular image."
   ]
  },
  {
   "cell_type": "code",
   "execution_count": 11,
   "metadata": {},
   "outputs": [
    {
     "data": {
      "text/plain": [
       "<matplotlib.image.AxesImage at 0x7f570b87d710>"
      ]
     },
     "execution_count": 11,
     "metadata": {},
     "output_type": "execute_result"
    },
    {
     "data": {
      "image/png": "[encoded data removed]",
      "text/plain": [
       "<Figure size 432x288 with 2 Axes>"
      ]
     },
     "metadata": {
      "needs_background": "light"
     },
     "output_type": "display_data"
    }
   ],
   "source": [
    "# TODO: Augment your data by flipping images horizontally\n",
    "### STRIP_START ###\n",
    "(X_train, y_train), (X_test, y_test) = cifar10.load_data()\n",
    "\n",
    "X_train = X_train[:10000]\n",
    "y_train = y_train[:10000]\n",
    "X_test = X_test[:2000]\n",
    "y_test = y_test[:2000]\n",
    "\n",
    "plt.subplot(1, 2, 1)\n",
    "plt.imshow(X_train[0])#, cmap='gray_r')\n",
    "\n",
    "\n",
    "plt.subplot(1, 2, 2)\n",
    "plt.imshow(np.flip(X_train, axis=2)[0])#, cmap='gray_r')\n",
    "### STRIP_END ###"
   ]
  },
  {
   "cell_type": "markdown",
   "metadata": {},
   "source": [
    "Now concatenate your training set to have both regular and flipped images in it. Do the same for the associated labels (labels remain the same for flipped images). If your computer memory is not big enough, flip only a subsample of images."
   ]
  },
  {
   "cell_type": "code",
   "execution_count": 12,
   "metadata": {
    "scrolled": true
   },
   "outputs": [],
   "source": [
    "# TODO: Create a new training set with both regular and flipped images\n",
    "### STRIP_START ###\n",
    "from keras.utils import to_categorical\n",
    "\n",
    "# flip images\n",
    "flipped = np.flip(X_train, axis=2)\n",
    "\n",
    "# concantenate \n",
    "X_train = np.concatenate([X_train, flipped], axis=0)\n",
    "y_train = np.concatenate([y_train, y_train], axis=0)\n",
    "\n",
    "# preprocess\n",
    "y_train = to_categorical(y_train, num_classes=10)\n",
    "y_test = to_categorical(y_test, num_classes=10)\n",
    "\n",
    "X_train = X_train/255.\n",
    "X_test = X_test/255.\n",
    "\n",
    "X_train = X_train.reshape(X_train.shape[0], np.prod(X_train.shape[1:]))\n",
    "X_test = X_test.reshape(X_test.shape[0], np.prod(X_test.shape[1:]))\n",
    "### STRIP_END ###"
   ]
  },
  {
   "cell_type": "markdown",
   "metadata": {},
   "source": [
    "Once your data is augmented, retrain your model, and see if it can improve your performances."
   ]
  },
  {
   "cell_type": "code",
   "execution_count": 13,
   "metadata": {
    "scrolled": true
   },
   "outputs": [
    {
     "name": "stdout",
     "output_type": "stream",
     "text": [
      "Train on 20000 samples, validate on 2000 samples\n",
      "Epoch 1/100\n",
      "20000/20000 [==============================] - 1s 56us/step - loss: 2.0706 - val_loss: 1.9930\n",
      "Epoch 2/100\n",
      "20000/20000 [==============================] - 1s 51us/step - loss: 1.8868 - val_loss: 1.8529\n",
      "Epoch 3/100\n",
      "20000/20000 [==============================] - 1s 51us/step - loss: 1.8302 - val_loss: 1.8135\n",
      "Epoch 4/100\n",
      "20000/20000 [==============================] - 1s 51us/step - loss: 1.7988 - val_loss: 1.7981\n",
      "Epoch 5/100\n",
      "20000/20000 [==============================] - 1s 51us/step - loss: 1.7671 - val_loss: 1.8078\n",
      "Epoch 6/100\n",
      "20000/20000 [==============================] - 1s 65us/step - loss: 1.7448 - val_loss: 1.7586\n",
      "Epoch 7/100\n",
      "20000/20000 [==============================] - 1s 55us/step - loss: 1.7166 - val_loss: 1.7476\n",
      "Epoch 8/100\n",
      "20000/20000 [==============================] - 1s 55us/step - loss: 1.7006 - val_loss: 1.7559\n",
      "Epoch 9/100\n",
      "20000/20000 [==============================] - 1s 52us/step - loss: 1.6915 - val_loss: 1.7542\n",
      "Epoch 10/100\n",
      "20000/20000 [==============================] - 1s 58us/step - loss: 1.6801 - val_loss: 1.7266\n",
      "Epoch 11/100\n",
      "20000/20000 [==============================] - 1s 59us/step - loss: 1.6682 - val_loss: 1.7079\n",
      "Epoch 12/100\n",
      "20000/20000 [==============================] - 1s 56us/step - loss: 1.6696 - val_loss: 1.7317\n",
      "Epoch 13/100\n",
      "20000/20000 [==============================] - 1s 62us/step - loss: 1.6530 - val_loss: 1.7420\n",
      "Epoch 14/100\n",
      "20000/20000 [==============================] - 1s 60us/step - loss: 1.6560 - val_loss: 1.7127\n",
      "Epoch 15/100\n",
      "20000/20000 [==============================] - 1s 61us/step - loss: 1.6411 - val_loss: 1.6913\n",
      "Epoch 16/100\n",
      "20000/20000 [==============================] - 1s 62us/step - loss: 1.6299 - val_loss: 1.7158\n",
      "Epoch 17/100\n",
      "20000/20000 [==============================] - 1s 61us/step - loss: 1.6235 - val_loss: 1.6928\n",
      "Epoch 18/100\n",
      "20000/20000 [==============================] - 1s 60us/step - loss: 1.6149 - val_loss: 1.6870\n",
      "Epoch 19/100\n",
      "20000/20000 [==============================] - 1s 62us/step - loss: 1.6109 - val_loss: 1.7324\n",
      "Epoch 20/100\n",
      "20000/20000 [==============================] - 1s 61us/step - loss: 1.6045 - val_loss: 1.6852\n",
      "Epoch 21/100\n",
      "20000/20000 [==============================] - 1s 61us/step - loss: 1.5975 - val_loss: 1.6639\n",
      "Epoch 22/100\n",
      "20000/20000 [==============================] - 1s 65us/step - loss: 1.5834 - val_loss: 1.6856\n",
      "Epoch 23/100\n",
      "20000/20000 [==============================] - 1s 66us/step - loss: 1.5794 - val_loss: 1.6818\n",
      "Epoch 24/100\n",
      "20000/20000 [==============================] - 2s 78us/step - loss: 1.5812 - val_loss: 1.6824\n",
      "Epoch 25/100\n",
      "20000/20000 [==============================] - 1s 73us/step - loss: 1.5701 - val_loss: 1.6862\n",
      "Epoch 26/100\n",
      "20000/20000 [==============================] - 1s 64us/step - loss: 1.5709 - val_loss: 1.6988\n",
      "Epoch 27/100\n",
      "20000/20000 [==============================] - 2s 76us/step - loss: 1.5745 - val_loss: 1.6774\n",
      "Epoch 28/100\n",
      "20000/20000 [==============================] - 1s 72us/step - loss: 1.5578 - val_loss: 1.6709\n",
      "Epoch 29/100\n",
      "20000/20000 [==============================] - 1s 66us/step - loss: 1.5537 - val_loss: 1.6625\n",
      "Epoch 30/100\n",
      "20000/20000 [==============================] - 2s 77us/step - loss: 1.5470 - val_loss: 1.6603\n",
      "Epoch 31/100\n",
      "20000/20000 [==============================] - 2s 76us/step - loss: 1.5452 - val_loss: 1.6740\n",
      "Epoch 32/100\n",
      "20000/20000 [==============================] - 1s 62us/step - loss: 1.5461 - val_loss: 1.6900\n",
      "Epoch 33/100\n",
      "20000/20000 [==============================] - 1s 71us/step - loss: 1.5447 - val_loss: 1.6837\n",
      "Epoch 34/100\n",
      "20000/20000 [==============================] - 2s 89us/step - loss: 1.5512 - val_loss: 1.7637\n",
      "Epoch 35/100\n",
      "20000/20000 [==============================] - 1s 71us/step - loss: 1.5414 - val_loss: 1.6780\n",
      "Epoch 36/100\n",
      "20000/20000 [==============================] - 1s 71us/step - loss: 1.5391 - val_loss: 1.6997\n",
      "Epoch 37/100\n",
      "20000/20000 [==============================] - 1s 68us/step - loss: 1.5335 - val_loss: 1.7005\n",
      "Epoch 38/100\n",
      "20000/20000 [==============================] - 1s 69us/step - loss: 1.5248 - val_loss: 1.6787\n",
      "Epoch 39/100\n",
      "20000/20000 [==============================] - 1s 70us/step - loss: 1.5210 - val_loss: 1.6793\n",
      "Epoch 40/100\n",
      "20000/20000 [==============================] - 1s 70us/step - loss: 1.5242 - val_loss: 1.6888\n",
      "Epoch 41/100\n",
      "20000/20000 [==============================] - 1s 68us/step - loss: 1.5210 - val_loss: 1.7137\n",
      "Epoch 42/100\n",
      "20000/20000 [==============================] - 1s 66us/step - loss: 1.5186 - val_loss: 1.6963\n",
      "Epoch 43/100\n",
      "20000/20000 [==============================] - 1s 73us/step - loss: 1.5128 - val_loss: 1.6774\n",
      "Epoch 44/100\n",
      "20000/20000 [==============================] - 1s 68us/step - loss: 1.5160 - val_loss: 1.6742\n",
      "Epoch 45/100\n",
      "20000/20000 [==============================] - 1s 64us/step - loss: 1.5099 - val_loss: 1.6853\n",
      "Epoch 46/100\n",
      "20000/20000 [==============================] - 1s 65us/step - loss: 1.5050 - val_loss: 1.6833\n",
      "Epoch 47/100\n",
      "20000/20000 [==============================] - 1s 75us/step - loss: 1.5037 - val_loss: 1.7057\n",
      "Epoch 48/100\n",
      "20000/20000 [==============================] - 1s 66us/step - loss: 1.5011 - val_loss: 1.6751\n",
      "Epoch 49/100\n",
      "20000/20000 [==============================] - 1s 64us/step - loss: 1.4990 - val_loss: 1.6900\n",
      "Epoch 50/100\n",
      "20000/20000 [==============================] - 2s 80us/step - loss: 1.4958 - val_loss: 1.6862\n",
      "Epoch 51/100\n",
      "20000/20000 [==============================] - 1s 73us/step - loss: 1.4904 - val_loss: 1.7071\n",
      "Epoch 52/100\n",
      "20000/20000 [==============================] - 1s 66us/step - loss: 1.4893 - val_loss: 1.7289\n",
      "Epoch 53/100\n",
      "20000/20000 [==============================] - 1s 60us/step - loss: 1.4859 - val_loss: 1.6788\n",
      "Epoch 54/100\n",
      "20000/20000 [==============================] - 2s 86us/step - loss: 1.4879 - val_loss: 1.6959\n",
      "Epoch 55/100\n",
      "20000/20000 [==============================] - 1s 65us/step - loss: 1.4877 - val_loss: 1.6921\n",
      "Epoch 56/100\n",
      "20000/20000 [==============================] - 1s 65us/step - loss: 1.4819 - val_loss: 1.6849\n",
      "Epoch 57/100\n",
      "20000/20000 [==============================] - 1s 66us/step - loss: 1.4809 - val_loss: 1.6994\n",
      "Epoch 58/100\n",
      "20000/20000 [==============================] - 1s 66us/step - loss: 1.4795 - val_loss: 1.7008\n",
      "Epoch 59/100\n",
      "20000/20000 [==============================] - 1s 70us/step - loss: 1.4767 - val_loss: 1.7057\n",
      "Epoch 60/100\n",
      "20000/20000 [==============================] - 1s 66us/step - loss: 1.4686 - val_loss: 1.6874\n",
      "accuracy on train with NN: 0.47065\n",
      "accuracy on test with NN: 0.4145\n"
     ]
    }
   ],
   "source": [
    "# TODO: train your model and display the performances\n",
    "### STRIP_START ###\n",
    "\n",
    "# Finally fit the model\n",
    "model.fit(x=X_train, y=y_train, validation_data=(X_test, y_test), epochs=100, batch_size=64, callbacks=callbacks)\n",
    "\n",
    "# Compute and print the accuracy\n",
    "y_pred_train = to_categorical(model.predict(X_train).argmax(axis=1), num_classes=10)\n",
    "y_pred_test = to_categorical(model.predict(X_test).argmax(axis=1), num_classes=10)\n",
    "\n",
    "print('accuracy on train with NN:', accuracy_score(y_pred_train, y_train))\n",
    "print('accuracy on test with NN:', accuracy_score(y_pred_test, y_test))\n",
    "\n",
    "### STRIP_END ###"
   ]
  },
  {
   "cell_type": "markdown",
   "metadata": {},
   "source": [
    "Does it improve your performances? On my side yes it does, from 34% accuracy to 41%, quite a big improvement (even if this is not so good)."
   ]
  },
  {
   "cell_type": "markdown",
   "metadata": {},
   "source": [
    "Now feel free to improve the performances of your model by making more data augmentation (adding rotations, zooming...), trying to add layers or units, or playing with hyperparameters."
   ]
  },
  {
   "cell_type": "code",
   "execution_count": null,
   "metadata": {},
   "outputs": [],
   "source": []
  }
 ],
 "metadata": {
  "kernelspec": {
   "display_name": "Python 3",
   "language": "python",
   "name": "python3"
  },
  "language_info": {
   "codemirror_mode": {
    "name": "ipython",
    "version": 3
   },
   "file_extension": ".py",
   "mimetype": "text/x-python",
   "name": "python",
   "nbconvert_exporter": "python",
   "pygments_lexer": "ipython3",
   "version": "3.6.7"
  }
 },
 "nbformat": 4,
 "nbformat_minor": 2
}
