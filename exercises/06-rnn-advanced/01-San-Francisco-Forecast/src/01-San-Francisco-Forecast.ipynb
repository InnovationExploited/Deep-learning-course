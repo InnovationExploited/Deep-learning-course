{
 "cells": [
  {
   "cell_type": "markdown",
   "metadata": {},
   "source": [
    "# 01 San Francisco Forecast"
   ]
  },
  {
   "cell_type": "markdown",
   "metadata": {},
   "source": [
    "![](https://images.unsplash.com/photo-1449034446853-66c86144b0ad?ixlib=rb-1.2.1&ixid=eyJhcHBfaWQiOjEyMDd9&auto=format&fit=crop&w=1050&q=80)\n",
    "\n",
    "Photo by [Joseph Barrientos](https://unsplash.com/photos/Ji_G7Bu1MoM)"
   ]
  },
  {
   "cell_type": "markdown",
   "metadata": {},
   "source": [
    "In this exercise, you will predict the weather of the city of San Francisco! In the first step, we would predict the temperature, knowing the information of the past days."
   ]
  },
  {
   "cell_type": "markdown",
   "metadata": {},
   "source": [
    "First load the dataset contained in `San_Francisco.csv`."
   ]
  },
  {
   "cell_type": "code",
   "execution_count": 1,
   "metadata": {
    "scrolled": true
   },
   "outputs": [
    {
     "name": "stdout",
     "output_type": "stream",
     "text": [
      "shape: (45253, 7)\n"
     ]
    },
    {
     "data": {
      "text/html": [
       "<div>\n",
       "<style scoped>\n",
       "    .dataframe tbody tr th:only-of-type {\n",
       "        vertical-align: middle;\n",
       "    }\n",
       "\n",
       "    .dataframe tbody tr th {\n",
       "        vertical-align: top;\n",
       "    }\n",
       "\n",
       "    .dataframe thead th {\n",
       "        text-align: right;\n",
       "    }\n",
       "</style>\n",
       "<table border=\"1\" class=\"dataframe\">\n",
       "  <thead>\n",
       "    <tr style=\"text-align: right;\">\n",
       "      <th></th>\n",
       "      <th>datetime</th>\n",
       "      <th>Humidity</th>\n",
       "      <th>Pressure</th>\n",
       "      <th>Temperature</th>\n",
       "      <th>Description</th>\n",
       "      <th>Wind direction</th>\n",
       "      <th>Wind speed</th>\n",
       "    </tr>\n",
       "  </thead>\n",
       "  <tbody>\n",
       "    <tr>\n",
       "      <th>0</th>\n",
       "      <td>2012-10-01 12:00:00</td>\n",
       "      <td>NaN</td>\n",
       "      <td>NaN</td>\n",
       "      <td>NaN</td>\n",
       "      <td>NaN</td>\n",
       "      <td>NaN</td>\n",
       "      <td>NaN</td>\n",
       "    </tr>\n",
       "    <tr>\n",
       "      <th>1</th>\n",
       "      <td>2012-10-01 13:00:00</td>\n",
       "      <td>88.0</td>\n",
       "      <td>1009.0</td>\n",
       "      <td>289.480000</td>\n",
       "      <td>light rain</td>\n",
       "      <td>150.0</td>\n",
       "      <td>2.0</td>\n",
       "    </tr>\n",
       "    <tr>\n",
       "      <th>2</th>\n",
       "      <td>2012-10-01 14:00:00</td>\n",
       "      <td>87.0</td>\n",
       "      <td>1009.0</td>\n",
       "      <td>289.474993</td>\n",
       "      <td>sky is clear</td>\n",
       "      <td>147.0</td>\n",
       "      <td>2.0</td>\n",
       "    </tr>\n",
       "    <tr>\n",
       "      <th>3</th>\n",
       "      <td>2012-10-01 15:00:00</td>\n",
       "      <td>86.0</td>\n",
       "      <td>1009.0</td>\n",
       "      <td>289.460618</td>\n",
       "      <td>sky is clear</td>\n",
       "      <td>141.0</td>\n",
       "      <td>2.0</td>\n",
       "    </tr>\n",
       "    <tr>\n",
       "      <th>4</th>\n",
       "      <td>2012-10-01 16:00:00</td>\n",
       "      <td>85.0</td>\n",
       "      <td>1009.0</td>\n",
       "      <td>289.446243</td>\n",
       "      <td>sky is clear</td>\n",
       "      <td>135.0</td>\n",
       "      <td>2.0</td>\n",
       "    </tr>\n",
       "  </tbody>\n",
       "</table>\n",
       "</div>"
      ],
      "text/plain": [
       "              datetime  Humidity  Pressure  Temperature   Description  \\\n",
       "0  2012-10-01 12:00:00       NaN       NaN          NaN           NaN   \n",
       "1  2012-10-01 13:00:00      88.0    1009.0   289.480000    light rain   \n",
       "2  2012-10-01 14:00:00      87.0    1009.0   289.474993  sky is clear   \n",
       "3  2012-10-01 15:00:00      86.0    1009.0   289.460618  sky is clear   \n",
       "4  2012-10-01 16:00:00      85.0    1009.0   289.446243  sky is clear   \n",
       "\n",
       "   Wind direction  Wind speed  \n",
       "0             NaN         NaN  \n",
       "1           150.0         2.0  \n",
       "2           147.0         2.0  \n",
       "3           141.0         2.0  \n",
       "4           135.0         2.0  "
      ]
     },
     "execution_count": 1,
     "metadata": {},
     "output_type": "execute_result"
    }
   ],
   "source": [
    "# TODO: Load the dataset\n",
    "### STRIP_START ###\n",
    "import pandas as pd\n",
    "df = pd.read_csv('San_Francisco.csv')\n",
    "print(\"shape:\", df.shape)\n",
    "df.head()\n",
    "### STRIP_END ###"
   ]
  },
  {
   "cell_type": "markdown",
   "metadata": {},
   "source": [
    "Explore the dataset, make the data preparation."
   ]
  },
  {
   "cell_type": "code",
   "execution_count": 2,
   "metadata": {
    "scrolled": true
   },
   "outputs": [
    {
     "data": {
      "text/plain": [
       "(44304, 7)"
      ]
     },
     "execution_count": 2,
     "metadata": {},
     "output_type": "execute_result"
    }
   ],
   "source": [
    "# TODO: Make an EDA and data preparation\n",
    "### STRIP_START ###\n",
    "df = df.dropna()\n",
    "df.shape\n",
    "### STRIP_END ###"
   ]
  },
  {
   "cell_type": "code",
   "execution_count": 3,
   "metadata": {},
   "outputs": [],
   "source": [
    "df['datetime'] = pd.to_datetime(df['datetime'])"
   ]
  },
  {
   "cell_type": "code",
   "execution_count": 4,
   "metadata": {},
   "outputs": [
    {
     "data": {
      "text/plain": [
       "<Figure size 640x480 with 1 Axes>"
      ]
     },
     "metadata": {},
     "output_type": "display_data"
    }
   ],
   "source": [
    "import matplotlib.pyplot as plt\n",
    "\n",
    "from pandas.plotting import register_matplotlib_converters\n",
    "register_matplotlib_converters()\n",
    "\n",
    "plt.plot(df['datetime'], df['Pressure'])\n",
    "plt.xlabel('date')\n",
    "plt.ylabel('Pressure (hPa)')\n",
    "plt.show()"
   ]
  },
  {
   "cell_type": "code",
   "execution_count": 5,
   "metadata": {},
   "outputs": [
    {
     "data": {
      "image/png": "[encoded data removed]",
      "text/plain": [
       "<Figure size 432x288 with 1 Axes>"
      ]
     },
     "metadata": {
      "needs_background": "light"
     },
     "output_type": "display_data"
    }
   ],
   "source": [
    "plt.plot(df['datetime'], df['Temperature'])\n",
    "plt.xlabel('date')\n",
    "plt.ylabel('Temperature (° F)')\n",
    "plt.show()"
   ]
  },
  {
   "cell_type": "code",
   "execution_count": 6,
   "metadata": {},
   "outputs": [
    {
     "data": {
      "image/png": "[encoded data removed]",
      "text/plain": [
       "<Figure size 432x288 with 1 Axes>"
      ]
     },
     "metadata": {
      "needs_background": "light"
     },
     "output_type": "display_data"
    }
   ],
   "source": [
    "plt.plot(df['datetime'], df['Wind direction'])\n",
    "plt.xlabel('date')\n",
    "plt.ylabel('Wind Direction')\n",
    "plt.show()"
   ]
  },
  {
   "cell_type": "code",
   "execution_count": 7,
   "metadata": {},
   "outputs": [
    {
     "data": {
      "image/png": "[encoded data removed]",
      "text/plain": [
       "<Figure size 432x288 with 1 Axes>"
      ]
     },
     "metadata": {
      "needs_background": "light"
     },
     "output_type": "display_data"
    }
   ],
   "source": [
    "plt.plot(df['datetime'], df['Wind speed'])\n",
    "plt.xlabel('date')\n",
    "plt.ylabel('Wind Speed')\n",
    "plt.show()"
   ]
  },
  {
   "cell_type": "code",
   "execution_count": 8,
   "metadata": {},
   "outputs": [
    {
     "data": {
      "text/plain": [
       "Index(['datetime', 'Humidity', 'Pressure', 'Temperature', 'Description',\n",
       "       'Wind direction', 'Wind speed'],\n",
       "      dtype='object')"
      ]
     },
     "execution_count": 8,
     "metadata": {},
     "output_type": "execute_result"
    }
   ],
   "source": [
    "df.columns"
   ]
  },
  {
   "cell_type": "code",
   "execution_count": 39,
   "metadata": {},
   "outputs": [],
   "source": [
    "# Rescale\n",
    "from sklearn.preprocessing import StandardScaler\n",
    "\n",
    "scaler = StandardScaler()\n",
    "\n",
    "data = df[['Humidity', 'Pressure', 'Temperature', 'Wind direction', 'Wind speed']]\n",
    "data = pd.DataFrame(scaler.fit_transform(data), columns=['Humidity', 'Pressure', 'Temperature', 'Wind direction', 'Wind speed'])\n",
    "\n",
    "# # Dummify\n",
    "# dummies = pd.get_dummies(df['Description'], drop_first=True)\n",
    "# dummies.shape\n",
    "\n",
    "# # Concatenate\n",
    "# dummies.index = data.index\n",
    "# data = pd.concat([data, dummies], axis=1)\n",
    "# data.shape"
   ]
  },
  {
   "cell_type": "code",
   "execution_count": 40,
   "metadata": {
    "scrolled": true
   },
   "outputs": [
    {
     "data": {
      "text/html": [
       "<div>\n",
       "<style scoped>\n",
       "    .dataframe tbody tr th:only-of-type {\n",
       "        vertical-align: middle;\n",
       "    }\n",
       "\n",
       "    .dataframe tbody tr th {\n",
       "        vertical-align: top;\n",
       "    }\n",
       "\n",
       "    .dataframe thead th {\n",
       "        text-align: right;\n",
       "    }\n",
       "</style>\n",
       "<table border=\"1\" class=\"dataframe\">\n",
       "  <thead>\n",
       "    <tr style=\"text-align: right;\">\n",
       "      <th></th>\n",
       "      <th>Humidity</th>\n",
       "      <th>Pressure</th>\n",
       "      <th>Temperature</th>\n",
       "      <th>Wind direction</th>\n",
       "      <th>Wind speed</th>\n",
       "    </tr>\n",
       "  </thead>\n",
       "  <tbody>\n",
       "    <tr>\n",
       "      <th>0</th>\n",
       "      <td>0.639520</td>\n",
       "      <td>-1.341638</td>\n",
       "      <td>0.247034</td>\n",
       "      <td>-0.620076</td>\n",
       "      <td>-0.344767</td>\n",
       "    </tr>\n",
       "    <tr>\n",
       "      <th>1</th>\n",
       "      <td>0.582027</td>\n",
       "      <td>-1.341638</td>\n",
       "      <td>0.246094</td>\n",
       "      <td>-0.651470</td>\n",
       "      <td>-0.344767</td>\n",
       "    </tr>\n",
       "    <tr>\n",
       "      <th>2</th>\n",
       "      <td>0.524534</td>\n",
       "      <td>-1.341638</td>\n",
       "      <td>0.243397</td>\n",
       "      <td>-0.714259</td>\n",
       "      <td>-0.344767</td>\n",
       "    </tr>\n",
       "    <tr>\n",
       "      <th>3</th>\n",
       "      <td>0.467041</td>\n",
       "      <td>-1.341638</td>\n",
       "      <td>0.240700</td>\n",
       "      <td>-0.777048</td>\n",
       "      <td>-0.344767</td>\n",
       "    </tr>\n",
       "    <tr>\n",
       "      <th>4</th>\n",
       "      <td>0.409548</td>\n",
       "      <td>-1.341638</td>\n",
       "      <td>0.238002</td>\n",
       "      <td>-0.839837</td>\n",
       "      <td>-0.344767</td>\n",
       "    </tr>\n",
       "  </tbody>\n",
       "</table>\n",
       "</div>"
      ],
      "text/plain": [
       "   Humidity  Pressure  Temperature  Wind direction  Wind speed\n",
       "0  0.639520 -1.341638     0.247034       -0.620076   -0.344767\n",
       "1  0.582027 -1.341638     0.246094       -0.651470   -0.344767\n",
       "2  0.524534 -1.341638     0.243397       -0.714259   -0.344767\n",
       "3  0.467041 -1.341638     0.240700       -0.777048   -0.344767\n",
       "4  0.409548 -1.341638     0.238002       -0.839837   -0.344767"
      ]
     },
     "execution_count": 40,
     "metadata": {},
     "output_type": "execute_result"
    }
   ],
   "source": [
    "data.head()"
   ]
  },
  {
   "cell_type": "markdown",
   "metadata": {},
   "source": [
    "As you did for the stock forecast, you will need to compute the `X` and `y` data.\n",
    "\n",
    "`X` will be all the features, of the past half day for example (the number of past days can be modified). `y` will be the temperature of the current day."
   ]
  },
  {
   "cell_type": "code",
   "execution_count": 42,
   "metadata": {},
   "outputs": [
    {
     "data": {
      "text/plain": [
       "((44279, 24, 5), (44279,))"
      ]
     },
     "execution_count": 42,
     "metadata": {},
     "output_type": "execute_result"
    }
   ],
   "source": [
    "# TODO: Compute X and y\n",
    "### STRIP_START ###\n",
    "import numpy as np\n",
    "\n",
    "def processData(data, past):\n",
    "    X = []\n",
    "    for i in range(len(data)-past-1):\n",
    "        X.append(data.iloc[i:i+past].values)\n",
    "\n",
    "    return np.array(X)\n",
    "\n",
    "lookback = 24 # meaning a day\n",
    "\n",
    "y = df['Temperature'][lookback+1:] \n",
    "X = processData(data, lookback)\n",
    "X.shape, y.shape\n",
    "### STRIP_END ###"
   ]
  },
  {
   "cell_type": "markdown",
   "metadata": {},
   "source": [
    "Now build a RNN model that will allow to predict the temperature, knowing the information of the past half day (or more if you chose more!).\n",
    "\n",
    "Then compile it, fit it on a train dataset."
   ]
  },
  {
   "cell_type": "code",
   "execution_count": 43,
   "metadata": {
    "scrolled": true
   },
   "outputs": [
    {
     "name": "stdout",
     "output_type": "stream",
     "text": [
      "Train on 40000 samples, validate on 4279 samples\n",
      "Epoch 1/30\n",
      "40000/40000 [==============================] - 28s 688us/sample - loss: 4440.6647 - val_loss: 12.5025\n",
      "Epoch 2/30\n",
      "40000/40000 [==============================] - 26s 651us/sample - loss: 11.2894 - val_loss: 8.7807\n",
      "Epoch 3/30\n",
      "40000/40000 [==============================] - 26s 651us/sample - loss: 7.8460 - val_loss: 6.8445\n",
      "Epoch 4/30\n",
      "40000/40000 [==============================] - 26s 651us/sample - loss: 6.6931 - val_loss: 11.9485\n",
      "Epoch 5/30\n",
      "40000/40000 [==============================] - 27s 667us/sample - loss: 5.9148 - val_loss: 4.5281\n",
      "Epoch 6/30\n",
      "40000/40000 [==============================] - 27s 664us/sample - loss: 4.8935 - val_loss: 3.0832\n",
      "Epoch 7/30\n",
      "40000/40000 [==============================] - 27s 674us/sample - loss: 5.0178 - val_loss: 3.9977\n",
      "Epoch 8/30\n",
      "40000/40000 [==============================] - 27s 664us/sample - loss: 4.1850 - val_loss: 2.4592\n",
      "Epoch 9/30\n",
      "40000/40000 [==============================] - 27s 666us/sample - loss: 3.8099 - val_loss: 26.3390\n",
      "Epoch 10/30\n",
      "40000/40000 [==============================] - 28s 694us/sample - loss: 3.8527 - val_loss: 3.8591\n",
      "Epoch 11/30\n",
      "40000/40000 [==============================] - 28s 694us/sample - loss: 3.2448 - val_loss: 2.5766\n",
      "Epoch 12/30\n",
      "40000/40000 [==============================] - 28s 696us/sample - loss: 3.1730 - val_loss: 2.8847\n",
      "Epoch 13/30\n",
      "40000/40000 [==============================] - 28s 699us/sample - loss: 3.3333 - val_loss: 3.9437\n",
      "Epoch 14/30\n",
      "40000/40000 [==============================] - 28s 698us/sample - loss: 2.9371 - val_loss: 2.5356\n",
      "Epoch 15/30\n",
      "40000/40000 [==============================] - 28s 698us/sample - loss: 2.8417 - val_loss: 2.3211\n",
      "Epoch 16/30\n",
      "40000/40000 [==============================] - 28s 697us/sample - loss: 2.9186 - val_loss: 1.8544\n",
      "Epoch 17/30\n",
      "40000/40000 [==============================] - 28s 700us/sample - loss: 2.5947 - val_loss: 3.9757\n",
      "Epoch 18/30\n",
      "40000/40000 [==============================] - 28s 707us/sample - loss: 2.9705 - val_loss: 1.3328\n",
      "Epoch 19/30\n",
      "40000/40000 [==============================] - 28s 701us/sample - loss: 2.8414 - val_loss: 1.3052\n",
      "Epoch 20/30\n",
      "40000/40000 [==============================] - 29s 715us/sample - loss: 2.7410 - val_loss: 2.5459\n",
      "Epoch 21/30\n",
      "40000/40000 [==============================] - 29s 723us/sample - loss: 2.5656 - val_loss: 1.2775\n",
      "Epoch 22/30\n",
      "40000/40000 [==============================] - 29s 713us/sample - loss: 2.6299 - val_loss: 1.2883\n",
      "Epoch 23/30\n",
      "40000/40000 [==============================] - 29s 713us/sample - loss: 2.4239 - val_loss: 1.7899\n",
      "Epoch 24/30\n",
      "40000/40000 [==============================] - 28s 711us/sample - loss: 2.5740 - val_loss: 1.2812\n",
      "Epoch 25/30\n",
      "40000/40000 [==============================] - 29s 720us/sample - loss: 2.4576 - val_loss: 1.2726\n",
      "Epoch 26/30\n",
      "40000/40000 [==============================] - 28s 711us/sample - loss: 2.5160 - val_loss: 1.1853\n",
      "Epoch 27/30\n",
      "40000/40000 [==============================] - 29s 716us/sample - loss: 2.4001 - val_loss: 1.2210\n",
      "Epoch 28/30\n",
      "40000/40000 [==============================] - 29s 725us/sample - loss: 2.3400 - val_loss: 1.3812\n",
      "Epoch 29/30\n",
      "40000/40000 [==============================] - 29s 717us/sample - loss: 2.4352 - val_loss: 1.3610\n",
      "Epoch 30/30\n",
      "40000/40000 [==============================] - 29s 723us/sample - loss: 2.3743 - val_loss: 5.0996\n"
     ]
    },
    {
     "data": {
      "text/plain": [
       "<tensorflow.python.keras.callbacks.History at 0x7fa574faaac8>"
      ]
     },
     "execution_count": 43,
     "metadata": {},
     "output_type": "execute_result"
    }
   ],
   "source": [
    "# TODO: Build and fit a RNN model\n",
    "### STRIP_START ###\n",
    "from tensorflow.keras.models import Sequential\n",
    "from tensorflow.keras.layers import GRU, Dense, Dropout\n",
    "\n",
    "def my_GRU(input_shape):\n",
    "\n",
    "    model = Sequential()\n",
    "    model.add(GRU(units=32, return_sequences=True, activation='relu', input_shape=input_shape))\n",
    "    model.add(GRU(units=32, activation='relu', return_sequences=False))\n",
    "    model.add(Dense(units=1, activation='linear'))\n",
    "\n",
    "    return model\n",
    "\n",
    "model = my_GRU(X.shape[1:])\n",
    "\n",
    "model.compile(optimizer='adam',\n",
    "              loss='mean_squared_error')\n",
    "\n",
    "\n",
    "X_train = X[:40000]\n",
    "y_train = y[:40000]\n",
    "X_test = X[40000:]\n",
    "y_test = y[40000:]\n",
    "\n",
    "\n",
    "model.fit(x=X_train, y=y_train, validation_data=(X_test, y_test), epochs=30, batch_size=32)\n",
    "### STRIP_END ###"
   ]
  },
  {
   "cell_type": "markdown",
   "metadata": {},
   "source": [
    "Finally, plot the results and compare it to the test data."
   ]
  },
  {
   "cell_type": "code",
   "execution_count": 44,
   "metadata": {},
   "outputs": [
    {
     "data": {
      "image/png": "[encoded data removed]",
      "text/plain": [
       "<Figure size 432x288 with 1 Axes>"
      ]
     },
     "metadata": {
      "needs_background": "light"
     },
     "output_type": "display_data"
    }
   ],
   "source": [
    "# TODO: Plot the results\n",
    "### STRIP_START ###\n",
    "plt.plot(np.arange(len(X_train)), y_train, label='Train')\n",
    "plt.plot(np.arange(len(X_train), len(X_train)+len(X_test), 1), y_test, label='Test')\n",
    "plt.plot(np.arange(len(X_train), len(X_train)+len(X_test), 1), model.predict(X_test), label='Test prediction')\n",
    "plt.legend()\n",
    "plt.show()\n",
    "### STRIP_END ###"
   ]
  },
  {
   "cell_type": "markdown",
   "metadata": {},
   "source": [
    "To go further, you can of course tune hyperparameters and the number of previous time steps you use.\n",
    "\n",
    "You can also try to add information from other cities (coming from [that dataset](https://www.kaggle.com/selfishgene/historical-hourly-weather-data)). \n",
    "\n",
    "Finally, you can also try to handle carefully the missing data, if you did not already!"
   ]
  }
 ],
 "metadata": {
  "kernelspec": {
   "display_name": "Python 3",
   "language": "python",
   "name": "python3"
  },
  "language_info": {
   "codemirror_mode": {
    "name": "ipython",
    "version": 3
   },
   "file_extension": ".py",
   "mimetype": "text/x-python",
   "name": "python",
   "nbconvert_exporter": "python",
   "pygments_lexer": "ipython3",
   "version": "3.6.7"
  }
 },
 "nbformat": 4,
 "nbformat_minor": 2
}
