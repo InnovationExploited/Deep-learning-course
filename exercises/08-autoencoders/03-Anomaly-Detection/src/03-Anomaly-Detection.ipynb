{
 "cells": [
  {
   "cell_type": "markdown",
   "metadata": {},
   "source": [
    "# 03 Anomaly"
   ]
  },
  {
   "cell_type": "markdown",
   "metadata": {},
   "source": [
    "![](https://images.unsplash.com/photo-1536303100418-985cb308bb38?ixlib=rb-1.2.1&ixid=eyJhcHBfaWQiOjEyMDd9&auto=format&fit=crop&w=1050&q=80)\n",
    "\n",
    "Picture by [Will Myers](https://unsplash.com/photos/ku_ttDpqIVc)"
   ]
  },
  {
   "cell_type": "markdown",
   "metadata": {},
   "source": [
    "In this challenge, you will play again with the [Kaggle credit card fraud detection](https://www.kaggle.com/mlg-ulb/creditcardfraud). But this time, you will use AutoEncoder to perform the anomaly detection.\n",
    "\n",
    "The idea of using an Autoencoder for anomaly detection is the following.\n",
    "\n",
    "If you train an AutoEncoder on pure data (only normal class), then the AutoEncoder now knows the normal data. If you make predictions on new data, the following behavior is expected:\n",
    "- The AutoEncoder sould be able to encode properly any normal data: the reconstruction error should be small\n",
    "- The AutoEncoder has never seen anomaly data: the reconstruction error should be large\n",
    "\n",
    "So basically, you will train an AutoEncoder on normal data only, and on the test dataset, you will use the reconstruction error as a way to discriminate."
   ]
  },
  {
   "cell_type": "markdown",
   "metadata": {},
   "source": [
    "Since you know well this dataset, the first part will be done easily: load the dataset, make a quick data exploration."
   ]
  },
  {
   "cell_type": "code",
   "execution_count": 1,
   "metadata": {},
   "outputs": [
    {
     "data": {
      "text/html": [
       "<div>\n",
       "<style scoped>\n",
       "    .dataframe tbody tr th:only-of-type {\n",
       "        vertical-align: middle;\n",
       "    }\n",
       "\n",
       "    .dataframe tbody tr th {\n",
       "        vertical-align: top;\n",
       "    }\n",
       "\n",
       "    .dataframe thead th {\n",
       "        text-align: right;\n",
       "    }\n",
       "</style>\n",
       "<table border=\"1\" class=\"dataframe\">\n",
       "  <thead>\n",
       "    <tr style=\"text-align: right;\">\n",
       "      <th></th>\n",
       "      <th>Time</th>\n",
       "      <th>V1</th>\n",
       "      <th>V2</th>\n",
       "      <th>V3</th>\n",
       "      <th>V4</th>\n",
       "      <th>V5</th>\n",
       "      <th>V6</th>\n",
       "      <th>V7</th>\n",
       "      <th>V8</th>\n",
       "      <th>V9</th>\n",
       "      <th>...</th>\n",
       "      <th>V21</th>\n",
       "      <th>V22</th>\n",
       "      <th>V23</th>\n",
       "      <th>V24</th>\n",
       "      <th>V25</th>\n",
       "      <th>V26</th>\n",
       "      <th>V27</th>\n",
       "      <th>V28</th>\n",
       "      <th>Amount</th>\n",
       "      <th>Class</th>\n",
       "    </tr>\n",
       "  </thead>\n",
       "  <tbody>\n",
       "    <tr>\n",
       "      <th>0</th>\n",
       "      <td>0.0</td>\n",
       "      <td>-1.359807</td>\n",
       "      <td>-0.072781</td>\n",
       "      <td>2.536347</td>\n",
       "      <td>1.378155</td>\n",
       "      <td>-0.338321</td>\n",
       "      <td>0.462388</td>\n",
       "      <td>0.239599</td>\n",
       "      <td>0.098698</td>\n",
       "      <td>0.363787</td>\n",
       "      <td>...</td>\n",
       "      <td>-0.018307</td>\n",
       "      <td>0.277838</td>\n",
       "      <td>-0.110474</td>\n",
       "      <td>0.066928</td>\n",
       "      <td>0.128539</td>\n",
       "      <td>-0.189115</td>\n",
       "      <td>0.133558</td>\n",
       "      <td>-0.021053</td>\n",
       "      <td>149.62</td>\n",
       "      <td>0</td>\n",
       "    </tr>\n",
       "    <tr>\n",
       "      <th>1</th>\n",
       "      <td>0.0</td>\n",
       "      <td>1.191857</td>\n",
       "      <td>0.266151</td>\n",
       "      <td>0.166480</td>\n",
       "      <td>0.448154</td>\n",
       "      <td>0.060018</td>\n",
       "      <td>-0.082361</td>\n",
       "      <td>-0.078803</td>\n",
       "      <td>0.085102</td>\n",
       "      <td>-0.255425</td>\n",
       "      <td>...</td>\n",
       "      <td>-0.225775</td>\n",
       "      <td>-0.638672</td>\n",
       "      <td>0.101288</td>\n",
       "      <td>-0.339846</td>\n",
       "      <td>0.167170</td>\n",
       "      <td>0.125895</td>\n",
       "      <td>-0.008983</td>\n",
       "      <td>0.014724</td>\n",
       "      <td>2.69</td>\n",
       "      <td>0</td>\n",
       "    </tr>\n",
       "    <tr>\n",
       "      <th>2</th>\n",
       "      <td>1.0</td>\n",
       "      <td>-1.358354</td>\n",
       "      <td>-1.340163</td>\n",
       "      <td>1.773209</td>\n",
       "      <td>0.379780</td>\n",
       "      <td>-0.503198</td>\n",
       "      <td>1.800499</td>\n",
       "      <td>0.791461</td>\n",
       "      <td>0.247676</td>\n",
       "      <td>-1.514654</td>\n",
       "      <td>...</td>\n",
       "      <td>0.247998</td>\n",
       "      <td>0.771679</td>\n",
       "      <td>0.909412</td>\n",
       "      <td>-0.689281</td>\n",
       "      <td>-0.327642</td>\n",
       "      <td>-0.139097</td>\n",
       "      <td>-0.055353</td>\n",
       "      <td>-0.059752</td>\n",
       "      <td>378.66</td>\n",
       "      <td>0</td>\n",
       "    </tr>\n",
       "    <tr>\n",
       "      <th>3</th>\n",
       "      <td>1.0</td>\n",
       "      <td>-0.966272</td>\n",
       "      <td>-0.185226</td>\n",
       "      <td>1.792993</td>\n",
       "      <td>-0.863291</td>\n",
       "      <td>-0.010309</td>\n",
       "      <td>1.247203</td>\n",
       "      <td>0.237609</td>\n",
       "      <td>0.377436</td>\n",
       "      <td>-1.387024</td>\n",
       "      <td>...</td>\n",
       "      <td>-0.108300</td>\n",
       "      <td>0.005274</td>\n",
       "      <td>-0.190321</td>\n",
       "      <td>-1.175575</td>\n",
       "      <td>0.647376</td>\n",
       "      <td>-0.221929</td>\n",
       "      <td>0.062723</td>\n",
       "      <td>0.061458</td>\n",
       "      <td>123.50</td>\n",
       "      <td>0</td>\n",
       "    </tr>\n",
       "    <tr>\n",
       "      <th>4</th>\n",
       "      <td>2.0</td>\n",
       "      <td>-1.158233</td>\n",
       "      <td>0.877737</td>\n",
       "      <td>1.548718</td>\n",
       "      <td>0.403034</td>\n",
       "      <td>-0.407193</td>\n",
       "      <td>0.095921</td>\n",
       "      <td>0.592941</td>\n",
       "      <td>-0.270533</td>\n",
       "      <td>0.817739</td>\n",
       "      <td>...</td>\n",
       "      <td>-0.009431</td>\n",
       "      <td>0.798278</td>\n",
       "      <td>-0.137458</td>\n",
       "      <td>0.141267</td>\n",
       "      <td>-0.206010</td>\n",
       "      <td>0.502292</td>\n",
       "      <td>0.219422</td>\n",
       "      <td>0.215153</td>\n",
       "      <td>69.99</td>\n",
       "      <td>0</td>\n",
       "    </tr>\n",
       "  </tbody>\n",
       "</table>\n",
       "<p>5 rows × 31 columns</p>\n",
       "</div>"
      ],
      "text/plain": [
       "   Time        V1        V2        V3        V4        V5        V6        V7  \\\n",
       "0   0.0 -1.359807 -0.072781  2.536347  1.378155 -0.338321  0.462388  0.239599   \n",
       "1   0.0  1.191857  0.266151  0.166480  0.448154  0.060018 -0.082361 -0.078803   \n",
       "2   1.0 -1.358354 -1.340163  1.773209  0.379780 -0.503198  1.800499  0.791461   \n",
       "3   1.0 -0.966272 -0.185226  1.792993 -0.863291 -0.010309  1.247203  0.237609   \n",
       "4   2.0 -1.158233  0.877737  1.548718  0.403034 -0.407193  0.095921  0.592941   \n",
       "\n",
       "         V8        V9  ...       V21       V22       V23       V24       V25  \\\n",
       "0  0.098698  0.363787  ... -0.018307  0.277838 -0.110474  0.066928  0.128539   \n",
       "1  0.085102 -0.255425  ... -0.225775 -0.638672  0.101288 -0.339846  0.167170   \n",
       "2  0.247676 -1.514654  ...  0.247998  0.771679  0.909412 -0.689281 -0.327642   \n",
       "3  0.377436 -1.387024  ... -0.108300  0.005274 -0.190321 -1.175575  0.647376   \n",
       "4 -0.270533  0.817739  ... -0.009431  0.798278 -0.137458  0.141267 -0.206010   \n",
       "\n",
       "        V26       V27       V28  Amount  Class  \n",
       "0 -0.189115  0.133558 -0.021053  149.62      0  \n",
       "1  0.125895 -0.008983  0.014724    2.69      0  \n",
       "2 -0.139097 -0.055353 -0.059752  378.66      0  \n",
       "3 -0.221929  0.062723  0.061458  123.50      0  \n",
       "4  0.502292  0.219422  0.215153   69.99      0  \n",
       "\n",
       "[5 rows x 31 columns]"
      ]
     },
     "execution_count": 1,
     "metadata": {},
     "output_type": "execute_result"
    }
   ],
   "source": [
    "### TODO: Data exploration\n",
    "### STRIP_START ###\n",
    "import pandas as pd\n",
    "import numpy as np\n",
    "\n",
    "df = pd.read_csv('creditcard.csv')\n",
    "df.head()\n",
    "### STRIP_END ###"
   ]
  },
  {
   "cell_type": "code",
   "execution_count": 2,
   "metadata": {},
   "outputs": [],
   "source": [
    "df = df.drop_duplicates()"
   ]
  },
  {
   "cell_type": "code",
   "execution_count": 3,
   "metadata": {},
   "outputs": [
    {
     "data": {
      "text/plain": [
       "(283726, 31)"
      ]
     },
     "execution_count": 3,
     "metadata": {},
     "output_type": "execute_result"
    }
   ],
   "source": [
    "df.shape"
   ]
  },
  {
   "cell_type": "code",
   "execution_count": 4,
   "metadata": {
    "scrolled": true
   },
   "outputs": [
    {
     "data": {
      "text/plain": [
       "Index(['Time', 'V1', 'V2', 'V3', 'V4', 'V5', 'V6', 'V7', 'V8', 'V9', 'V10',\n",
       "       'V11', 'V12', 'V13', 'V14', 'V15', 'V16', 'V17', 'V18', 'V19', 'V20',\n",
       "       'V21', 'V22', 'V23', 'V24', 'V25', 'V26', 'V27', 'V28', 'Amount',\n",
       "       'Class'],\n",
       "      dtype='object')"
      ]
     },
     "execution_count": 4,
     "metadata": {},
     "output_type": "execute_result"
    }
   ],
   "source": [
    "df.columns"
   ]
  },
  {
   "cell_type": "markdown",
   "metadata": {},
   "source": [
    "You will want to use an AutoEncoder with input and output values only in the range (0, 1): so that you can use sigmoid functions. Thus, scale your data so that all your features are between 0 and 1"
   ]
  },
  {
   "cell_type": "code",
   "execution_count": 5,
   "metadata": {},
   "outputs": [
    {
     "name": "stdout",
     "output_type": "stream",
     "text": [
      "(283726, 29)\n"
     ]
    },
    {
     "data": {
      "text/html": [
       "<div>\n",
       "<style scoped>\n",
       "    .dataframe tbody tr th:only-of-type {\n",
       "        vertical-align: middle;\n",
       "    }\n",
       "\n",
       "    .dataframe tbody tr th {\n",
       "        vertical-align: top;\n",
       "    }\n",
       "\n",
       "    .dataframe thead th {\n",
       "        text-align: right;\n",
       "    }\n",
       "</style>\n",
       "<table border=\"1\" class=\"dataframe\">\n",
       "  <thead>\n",
       "    <tr style=\"text-align: right;\">\n",
       "      <th></th>\n",
       "      <th>V1</th>\n",
       "      <th>V2</th>\n",
       "      <th>V3</th>\n",
       "      <th>V4</th>\n",
       "      <th>V5</th>\n",
       "      <th>V6</th>\n",
       "      <th>V7</th>\n",
       "      <th>V8</th>\n",
       "      <th>V9</th>\n",
       "      <th>V10</th>\n",
       "      <th>...</th>\n",
       "      <th>V20</th>\n",
       "      <th>V21</th>\n",
       "      <th>V22</th>\n",
       "      <th>V23</th>\n",
       "      <th>V24</th>\n",
       "      <th>V25</th>\n",
       "      <th>V26</th>\n",
       "      <th>V27</th>\n",
       "      <th>V28</th>\n",
       "      <th>Amount</th>\n",
       "    </tr>\n",
       "  </thead>\n",
       "  <tbody>\n",
       "    <tr>\n",
       "      <th>count</th>\n",
       "      <td>283726.000000</td>\n",
       "      <td>283726.000000</td>\n",
       "      <td>283726.000000</td>\n",
       "      <td>283726.000000</td>\n",
       "      <td>283726.000000</td>\n",
       "      <td>283726.000000</td>\n",
       "      <td>283726.000000</td>\n",
       "      <td>283726.000000</td>\n",
       "      <td>283726.000000</td>\n",
       "      <td>283726.000000</td>\n",
       "      <td>...</td>\n",
       "      <td>283726.000000</td>\n",
       "      <td>283726.000000</td>\n",
       "      <td>283726.000000</td>\n",
       "      <td>283726.000000</td>\n",
       "      <td>283726.000000</td>\n",
       "      <td>283726.000000</td>\n",
       "      <td>283726.000000</td>\n",
       "      <td>283726.000000</td>\n",
       "      <td>283726.000000</td>\n",
       "      <td>283726.000000</td>\n",
       "    </tr>\n",
       "    <tr>\n",
       "      <th>mean</th>\n",
       "      <td>0.958394</td>\n",
       "      <td>0.767215</td>\n",
       "      <td>0.837442</td>\n",
       "      <td>0.251799</td>\n",
       "      <td>0.765729</td>\n",
       "      <td>0.263008</td>\n",
       "      <td>0.265366</td>\n",
       "      <td>0.785376</td>\n",
       "      <td>0.462725</td>\n",
       "      <td>0.508692</td>\n",
       "      <td>...</td>\n",
       "      <td>0.580267</td>\n",
       "      <td>0.561474</td>\n",
       "      <td>0.510030</td>\n",
       "      <td>0.665437</td>\n",
       "      <td>0.382263</td>\n",
       "      <td>0.577894</td>\n",
       "      <td>0.425473</td>\n",
       "      <td>0.416543</td>\n",
       "      <td>0.313135</td>\n",
       "      <td>0.003444</td>\n",
       "    </tr>\n",
       "    <tr>\n",
       "      <th>std</th>\n",
       "      <td>0.033095</td>\n",
       "      <td>0.017375</td>\n",
       "      <td>0.026143</td>\n",
       "      <td>0.062690</td>\n",
       "      <td>0.009270</td>\n",
       "      <td>0.013391</td>\n",
       "      <td>0.007479</td>\n",
       "      <td>0.012648</td>\n",
       "      <td>0.037738</td>\n",
       "      <td>0.022270</td>\n",
       "      <td>...</td>\n",
       "      <td>0.008198</td>\n",
       "      <td>0.011670</td>\n",
       "      <td>0.033800</td>\n",
       "      <td>0.009263</td>\n",
       "      <td>0.081608</td>\n",
       "      <td>0.029257</td>\n",
       "      <td>0.078742</td>\n",
       "      <td>0.007305</td>\n",
       "      <td>0.006657</td>\n",
       "      <td>0.009747</td>\n",
       "    </tr>\n",
       "    <tr>\n",
       "      <th>min</th>\n",
       "      <td>0.000000</td>\n",
       "      <td>0.000000</td>\n",
       "      <td>0.000000</td>\n",
       "      <td>0.000000</td>\n",
       "      <td>0.000000</td>\n",
       "      <td>0.000000</td>\n",
       "      <td>0.000000</td>\n",
       "      <td>0.000000</td>\n",
       "      <td>0.000000</td>\n",
       "      <td>0.000000</td>\n",
       "      <td>...</td>\n",
       "      <td>0.000000</td>\n",
       "      <td>0.000000</td>\n",
       "      <td>0.000000</td>\n",
       "      <td>0.000000</td>\n",
       "      <td>0.000000</td>\n",
       "      <td>0.000000</td>\n",
       "      <td>0.000000</td>\n",
       "      <td>0.000000</td>\n",
       "      <td>0.000000</td>\n",
       "      <td>0.000000</td>\n",
       "    </tr>\n",
       "    <tr>\n",
       "      <th>25%</th>\n",
       "      <td>0.942733</td>\n",
       "      <td>0.760924</td>\n",
       "      <td>0.821997</td>\n",
       "      <td>0.214244</td>\n",
       "      <td>0.761072</td>\n",
       "      <td>0.255288</td>\n",
       "      <td>0.261990</td>\n",
       "      <td>0.783145</td>\n",
       "      <td>0.440588</td>\n",
       "      <td>0.497641</td>\n",
       "      <td>...</td>\n",
       "      <td>0.578014</td>\n",
       "      <td>0.557799</td>\n",
       "      <td>0.484714</td>\n",
       "      <td>0.663032</td>\n",
       "      <td>0.334472</td>\n",
       "      <td>0.560085</td>\n",
       "      <td>0.372072</td>\n",
       "      <td>0.415207</td>\n",
       "      <td>0.312052</td>\n",
       "      <td>0.000218</td>\n",
       "    </tr>\n",
       "    <tr>\n",
       "      <th>50%</th>\n",
       "      <td>0.958640</td>\n",
       "      <td>0.767933</td>\n",
       "      <td>0.840532</td>\n",
       "      <td>0.250944</td>\n",
       "      <td>0.765356</td>\n",
       "      <td>0.260253</td>\n",
       "      <td>0.265604</td>\n",
       "      <td>0.785620</td>\n",
       "      <td>0.460968</td>\n",
       "      <td>0.506793</td>\n",
       "      <td>...</td>\n",
       "      <td>0.579601</td>\n",
       "      <td>0.561005</td>\n",
       "      <td>0.510342</td>\n",
       "      <td>0.665268</td>\n",
       "      <td>0.387761</td>\n",
       "      <td>0.578820</td>\n",
       "      <td>0.416926</td>\n",
       "      <td>0.416538</td>\n",
       "      <td>0.313353</td>\n",
       "      <td>0.000856</td>\n",
       "    </tr>\n",
       "    <tr>\n",
       "      <th>75%</th>\n",
       "      <td>0.980652</td>\n",
       "      <td>0.775703</td>\n",
       "      <td>0.855209</td>\n",
       "      <td>0.284718</td>\n",
       "      <td>0.769838</td>\n",
       "      <td>0.267009</td>\n",
       "      <td>0.268831</td>\n",
       "      <td>0.788879</td>\n",
       "      <td>0.483310</td>\n",
       "      <td>0.518107</td>\n",
       "      <td>...</td>\n",
       "      <td>0.581684</td>\n",
       "      <td>0.564481</td>\n",
       "      <td>0.534674</td>\n",
       "      <td>0.667628</td>\n",
       "      <td>0.441489</td>\n",
       "      <td>0.597590</td>\n",
       "      <td>0.464695</td>\n",
       "      <td>0.418194</td>\n",
       "      <td>0.314712</td>\n",
       "      <td>0.003017</td>\n",
       "    </tr>\n",
       "    <tr>\n",
       "      <th>max</th>\n",
       "      <td>1.000000</td>\n",
       "      <td>1.000000</td>\n",
       "      <td>1.000000</td>\n",
       "      <td>1.000000</td>\n",
       "      <td>1.000000</td>\n",
       "      <td>1.000000</td>\n",
       "      <td>1.000000</td>\n",
       "      <td>1.000000</td>\n",
       "      <td>1.000000</td>\n",
       "      <td>1.000000</td>\n",
       "      <td>...</td>\n",
       "      <td>1.000000</td>\n",
       "      <td>1.000000</td>\n",
       "      <td>1.000000</td>\n",
       "      <td>1.000000</td>\n",
       "      <td>1.000000</td>\n",
       "      <td>1.000000</td>\n",
       "      <td>1.000000</td>\n",
       "      <td>1.000000</td>\n",
       "      <td>1.000000</td>\n",
       "      <td>1.000000</td>\n",
       "    </tr>\n",
       "  </tbody>\n",
       "</table>\n",
       "<p>8 rows × 29 columns</p>\n",
       "</div>"
      ],
      "text/plain": [
       "                  V1             V2             V3             V4  \\\n",
       "count  283726.000000  283726.000000  283726.000000  283726.000000   \n",
       "mean        0.958394       0.767215       0.837442       0.251799   \n",
       "std         0.033095       0.017375       0.026143       0.062690   \n",
       "min         0.000000       0.000000       0.000000       0.000000   \n",
       "25%         0.942733       0.760924       0.821997       0.214244   \n",
       "50%         0.958640       0.767933       0.840532       0.250944   \n",
       "75%         0.980652       0.775703       0.855209       0.284718   \n",
       "max         1.000000       1.000000       1.000000       1.000000   \n",
       "\n",
       "                  V5             V6             V7             V8  \\\n",
       "count  283726.000000  283726.000000  283726.000000  283726.000000   \n",
       "mean        0.765729       0.263008       0.265366       0.785376   \n",
       "std         0.009270       0.013391       0.007479       0.012648   \n",
       "min         0.000000       0.000000       0.000000       0.000000   \n",
       "25%         0.761072       0.255288       0.261990       0.783145   \n",
       "50%         0.765356       0.260253       0.265604       0.785620   \n",
       "75%         0.769838       0.267009       0.268831       0.788879   \n",
       "max         1.000000       1.000000       1.000000       1.000000   \n",
       "\n",
       "                  V9            V10  ...            V20            V21  \\\n",
       "count  283726.000000  283726.000000  ...  283726.000000  283726.000000   \n",
       "mean        0.462725       0.508692  ...       0.580267       0.561474   \n",
       "std         0.037738       0.022270  ...       0.008198       0.011670   \n",
       "min         0.000000       0.000000  ...       0.000000       0.000000   \n",
       "25%         0.440588       0.497641  ...       0.578014       0.557799   \n",
       "50%         0.460968       0.506793  ...       0.579601       0.561005   \n",
       "75%         0.483310       0.518107  ...       0.581684       0.564481   \n",
       "max         1.000000       1.000000  ...       1.000000       1.000000   \n",
       "\n",
       "                 V22            V23            V24            V25  \\\n",
       "count  283726.000000  283726.000000  283726.000000  283726.000000   \n",
       "mean        0.510030       0.665437       0.382263       0.577894   \n",
       "std         0.033800       0.009263       0.081608       0.029257   \n",
       "min         0.000000       0.000000       0.000000       0.000000   \n",
       "25%         0.484714       0.663032       0.334472       0.560085   \n",
       "50%         0.510342       0.665268       0.387761       0.578820   \n",
       "75%         0.534674       0.667628       0.441489       0.597590   \n",
       "max         1.000000       1.000000       1.000000       1.000000   \n",
       "\n",
       "                 V26            V27            V28         Amount  \n",
       "count  283726.000000  283726.000000  283726.000000  283726.000000  \n",
       "mean        0.425473       0.416543       0.313135       0.003444  \n",
       "std         0.078742       0.007305       0.006657       0.009747  \n",
       "min         0.000000       0.000000       0.000000       0.000000  \n",
       "25%         0.372072       0.415207       0.312052       0.000218  \n",
       "50%         0.416926       0.416538       0.313353       0.000856  \n",
       "75%         0.464695       0.418194       0.314712       0.003017  \n",
       "max         1.000000       1.000000       1.000000       1.000000  \n",
       "\n",
       "[8 rows x 29 columns]"
      ]
     },
     "execution_count": 5,
     "metadata": {},
     "output_type": "execute_result"
    }
   ],
   "source": [
    "### TODO: use a scaler to scale your data between 0 and 1\n",
    "### STRIP_START ###\n",
    "from sklearn.preprocessing import MinMaxScaler\n",
    "\n",
    "scaler = MinMaxScaler()\n",
    "\n",
    "X = scaler.fit_transform(df.drop(columns=['Time', 'Class']))\n",
    "\n",
    "X = pd.DataFrame(X, columns = ['V1', 'V2', 'V3', 'V4', 'V5', 'V6', 'V7', 'V8', 'V9', 'V10',\n",
    "       'V11', 'V12', 'V13', 'V14', 'V15', 'V16', 'V17', 'V18', 'V19', 'V20',\n",
    "       'V21', 'V22', 'V23', 'V24', 'V25', 'V26', 'V27', 'V28', 'Amount'], index=df.index)\n",
    "\n",
    "print(X.shape)\n",
    "X.describe()\n",
    "### STRIP_END ###"
   ]
  },
  {
   "cell_type": "markdown",
   "metadata": {},
   "source": [
    "As usual, create an `X` and `y` variables, and split the dataset into train and test datasets. "
   ]
  },
  {
   "cell_type": "code",
   "execution_count": 6,
   "metadata": {
    "scrolled": true
   },
   "outputs": [],
   "source": [
    "### TODO: Create your train and test dataset\n",
    "### STRIP_START ###\n",
    "df['Time_day'] = df['Time'].apply(lambda x : x/ 3600 %24)\n",
    "df['Time_day'] = df['Time_day']/24.\n",
    "### STRIP_END ###"
   ]
  },
  {
   "cell_type": "code",
   "execution_count": 7,
   "metadata": {},
   "outputs": [
    {
     "data": {
      "text/plain": [
       "(283726, 30)"
      ]
     },
     "execution_count": 7,
     "metadata": {},
     "output_type": "execute_result"
    }
   ],
   "source": [
    "X = pd.concat([X, df['Time_day']], axis=1)\n",
    "X.shape"
   ]
  },
  {
   "cell_type": "code",
   "execution_count": 8,
   "metadata": {},
   "outputs": [
    {
     "data": {
      "text/plain": [
       "((283726,), array([0, 1]))"
      ]
     },
     "execution_count": 8,
     "metadata": {},
     "output_type": "execute_result"
    }
   ],
   "source": [
    "y = df['Class']\n",
    "y.shape, y.unique()"
   ]
  },
  {
   "cell_type": "code",
   "execution_count": 9,
   "metadata": {},
   "outputs": [],
   "source": [
    "from sklearn.model_selection import train_test_split\n",
    "\n",
    "X_train, X_test, y_train, y_test = train_test_split(X, y, test_size=0.2, random_state=0, stratify=y)"
   ]
  },
  {
   "cell_type": "code",
   "execution_count": 10,
   "metadata": {},
   "outputs": [
    {
     "data": {
      "text/plain": [
       "((226980, 30), (56746, 30))"
      ]
     },
     "execution_count": 10,
     "metadata": {},
     "output_type": "execute_result"
    }
   ],
   "source": [
    "X_train.shape, X_test.shape"
   ]
  },
  {
   "cell_type": "code",
   "execution_count": 11,
   "metadata": {
    "scrolled": true
   },
   "outputs": [
    {
     "data": {
      "text/plain": [
       "(226602, 30)"
      ]
     },
     "execution_count": 11,
     "metadata": {},
     "output_type": "execute_result"
    }
   ],
   "source": [
    "X_train_pure = X_train[y_train==0]\n",
    "X_train_pure.shape"
   ]
  },
  {
   "cell_type": "markdown",
   "metadata": {},
   "source": [
    "Now build an AutoEncoder, and fit it on the train dataset (with removed anomalous data)"
   ]
  },
  {
   "cell_type": "code",
   "execution_count": 40,
   "metadata": {},
   "outputs": [],
   "source": [
    "### TODO: Build and fit your AutoEncoder\n",
    "### STRIP_START ###\n",
    "from tensorflow.keras.layers import Input, Dense\n",
    "from tensorflow.keras.models import Model\n",
    "\n",
    "latent_dim = 64\n",
    "\n",
    "# define the input layer: the pixel values\n",
    "input_data = Input(shape=(X.shape[1],))\n",
    "\n",
    "# encode\n",
    "encoded = Dense(latent_dim, activation='relu')(input_data)\n",
    "encoded = Dense(latent_dim/2, activation='relu')(encoded)\n",
    "\n",
    "# decode\n",
    "decoded = Dense(latent_dim, activation='relu')(encoded)\n",
    "decoded = Dense(X.shape[1], activation='sigmoid')(decoded)\n",
    "\n",
    "# Define the autoencoder model\n",
    "autoencoder = Model(input_data, decoded)\n",
    "\n",
    "# Define de encoder model\n",
    "encoder = Model(input_data, encoded)\n",
    "\n",
    "# Define de decoder model\n",
    "# create a placeholder for an encoded (32-dimensional) input\n",
    "encoded_input = Input(shape=(latent_dim,))\n",
    "\n",
    "# retrieve the last layer of the autoencoder model\n",
    "decoder_layer = autoencoder.layers[-1]\n",
    "\n",
    "# create the decoder model\n",
    "decoder = Model(encoded_input, decoder_layer(encoded_input))\n",
    "### STRIP_END ###"
   ]
  },
  {
   "cell_type": "code",
   "execution_count": 41,
   "metadata": {},
   "outputs": [
    {
     "name": "stdout",
     "output_type": "stream",
     "text": [
      "Train on 226602 samples, validate on 56746 samples\n",
      "Epoch 1/100\n",
      "226602/226602 [==============================] - 3s 15us/sample - loss: 0.0016 - val_loss: 5.2275e-04\n",
      "Epoch 2/100\n",
      "226602/226602 [==============================] - 3s 13us/sample - loss: 3.0997e-04 - val_loss: 2.8320e-04\n",
      "Epoch 3/100\n",
      "226602/226602 [==============================] - 3s 13us/sample - loss: 2.2453e-04 - val_loss: 1.9707e-04\n",
      "Epoch 4/100\n",
      "226602/226602 [==============================] - 3s 13us/sample - loss: 1.3908e-04 - val_loss: 1.4274e-04\n",
      "Epoch 5/100\n",
      "226602/226602 [==============================] - 3s 13us/sample - loss: 1.0640e-04 - val_loss: 1.1246e-04\n",
      "Epoch 6/100\n",
      "226602/226602 [==============================] - 3s 13us/sample - loss: 8.4913e-05 - val_loss: 8.7367e-05\n",
      "Epoch 7/100\n",
      "226602/226602 [==============================] - 3s 15us/sample - loss: 6.5886e-05 - val_loss: 6.4558e-05\n",
      "Epoch 8/100\n",
      "226602/226602 [==============================] - 4s 17us/sample - loss: 5.1238e-05 - val_loss: 5.3991e-05\n",
      "Epoch 9/100\n",
      "226602/226602 [==============================] - 3s 13us/sample - loss: 4.4818e-05 - val_loss: 4.6648e-05\n",
      "Epoch 10/100\n",
      "226602/226602 [==============================] - 3s 14us/sample - loss: 4.0383e-05 - val_loss: 4.2542e-05\n",
      "Epoch 11/100\n",
      "226602/226602 [==============================] - 3s 14us/sample - loss: 3.6696e-05 - val_loss: 3.9816e-05\n",
      "Epoch 12/100\n",
      "226602/226602 [==============================] - 3s 14us/sample - loss: 3.3841e-05 - val_loss: 3.7317e-05\n",
      "Epoch 13/100\n",
      "226602/226602 [==============================] - 4s 16us/sample - loss: 3.1726e-05 - val_loss: 3.4769e-05\n",
      "Epoch 14/100\n",
      "226602/226602 [==============================] - 3s 15us/sample - loss: 2.9776e-05 - val_loss: 3.2785e-05\n",
      "Epoch 15/100\n",
      "226602/226602 [==============================] - 3s 15us/sample - loss: 2.8436e-05 - val_loss: 3.1490e-05\n",
      "Epoch 16/100\n",
      "226602/226602 [==============================] - 3s 15us/sample - loss: 2.7396e-05 - val_loss: 3.1658e-05\n",
      "Epoch 17/100\n",
      "226602/226602 [==============================] - 4s 16us/sample - loss: 2.6507e-05 - val_loss: 3.0500e-05\n",
      "Epoch 18/100\n",
      "226602/226602 [==============================] - 3s 15us/sample - loss: 2.5665e-05 - val_loss: 2.9871e-05\n",
      "Epoch 19/100\n",
      "226602/226602 [==============================] - 4s 16us/sample - loss: 2.4872e-05 - val_loss: 2.7834e-05\n",
      "Epoch 20/100\n",
      "226602/226602 [==============================] - 5s 23us/sample - loss: 2.4376e-05 - val_loss: 2.8028e-05\n",
      "Epoch 21/100\n",
      "226602/226602 [==============================] - 4s 19us/sample - loss: 2.3749e-05 - val_loss: 2.7953e-05\n",
      "Epoch 22/100\n",
      "226602/226602 [==============================] - 3s 15us/sample - loss: 2.3426e-05 - val_loss: 2.6093e-05\n",
      "Epoch 23/100\n",
      "226602/226602 [==============================] - 3s 15us/sample - loss: 2.3106e-05 - val_loss: 2.7936e-05\n",
      "Epoch 24/100\n",
      "226602/226602 [==============================] - 3s 15us/sample - loss: 2.2821e-05 - val_loss: 2.5753e-05\n",
      "Epoch 25/100\n",
      "226602/226602 [==============================] - 4s 17us/sample - loss: 2.2604e-05 - val_loss: 2.6984e-05\n",
      "Epoch 26/100\n",
      "226602/226602 [==============================] - 3s 15us/sample - loss: 2.2310e-05 - val_loss: 2.5482e-05\n",
      "Epoch 27/100\n",
      "226602/226602 [==============================] - 4s 17us/sample - loss: 2.2015e-05 - val_loss: 2.5999e-05\n",
      "Epoch 28/100\n",
      "226602/226602 [==============================] - 4s 16us/sample - loss: 2.1839e-05 - val_loss: 2.8743e-05\n",
      "Epoch 29/100\n",
      "226602/226602 [==============================] - 3s 14us/sample - loss: 2.1653e-05 - val_loss: 2.5305e-05\n",
      "Epoch 30/100\n",
      "226602/226602 [==============================] - 4s 16us/sample - loss: 2.1485e-05 - val_loss: 2.5307e-05\n",
      "Epoch 31/100\n",
      "226602/226602 [==============================] - 4s 16us/sample - loss: 2.1209e-05 - val_loss: 2.7267e-05\n",
      "Epoch 32/100\n",
      "226602/226602 [==============================] - 4s 16us/sample - loss: 2.0969e-05 - val_loss: 2.3678e-05\n",
      "Epoch 33/100\n",
      "226602/226602 [==============================] - 4s 16us/sample - loss: 2.0067e-05 - val_loss: 2.3340e-05\n",
      "Epoch 34/100\n",
      "226602/226602 [==============================] - 4s 17us/sample - loss: 1.9688e-05 - val_loss: 2.2707e-05\n",
      "Epoch 35/100\n",
      "226602/226602 [==============================] - 4s 16us/sample - loss: 1.9417e-05 - val_loss: 2.2439e-05\n",
      "Epoch 36/100\n",
      "226602/226602 [==============================] - 4s 18us/sample - loss: 1.9307e-05 - val_loss: 2.1826e-05\n",
      "Epoch 37/100\n",
      "226602/226602 [==============================] - 3s 15us/sample - loss: 1.9020e-05 - val_loss: 2.2711e-05\n",
      "Epoch 38/100\n",
      "226602/226602 [==============================] - 4s 16us/sample - loss: 1.8765e-05 - val_loss: 2.1811e-05\n",
      "Epoch 39/100\n",
      "226602/226602 [==============================] - 3s 14us/sample - loss: 1.8586e-05 - val_loss: 2.2329e-05\n",
      "Epoch 40/100\n",
      "226602/226602 [==============================] - 4s 19us/sample - loss: 1.8370e-05 - val_loss: 2.1646e-05\n",
      "Epoch 41/100\n",
      "226602/226602 [==============================] - 4s 16us/sample - loss: 1.8192e-05 - val_loss: 2.2028e-05\n",
      "Epoch 42/100\n",
      "226602/226602 [==============================] - 4s 16us/sample - loss: 1.7918e-05 - val_loss: 2.1535e-05\n",
      "Epoch 43/100\n",
      "226602/226602 [==============================] - 4s 17us/sample - loss: 1.7773e-05 - val_loss: 2.4126e-05\n",
      "Epoch 44/100\n",
      "226602/226602 [==============================] - 4s 18us/sample - loss: 1.7534e-05 - val_loss: 2.0751e-05\n",
      "Epoch 45/100\n",
      "226602/226602 [==============================] - 4s 19us/sample - loss: 1.7416e-05 - val_loss: 2.1872e-05\n",
      "Epoch 46/100\n",
      "226602/226602 [==============================] - 4s 17us/sample - loss: 1.7271e-05 - val_loss: 2.1299e-05\n",
      "Epoch 47/100\n",
      "226602/226602 [==============================] - 4s 16us/sample - loss: 1.7121e-05 - val_loss: 2.1395e-05\n",
      "Epoch 48/100\n",
      "226602/226602 [==============================] - 3s 14us/sample - loss: 1.6990e-05 - val_loss: 1.9883e-05\n",
      "Epoch 49/100\n",
      "226602/226602 [==============================] - 3s 14us/sample - loss: 1.6942e-05 - val_loss: 2.0771e-05\n",
      "Epoch 50/100\n",
      "226602/226602 [==============================] - 4s 16us/sample - loss: 1.6723e-05 - val_loss: 2.1354e-05\n",
      "Epoch 51/100\n",
      "226602/226602 [==============================] - 3s 15us/sample - loss: 1.6632e-05 - val_loss: 2.0159e-05\n",
      "Epoch 52/100\n",
      "226602/226602 [==============================] - 4s 17us/sample - loss: 1.6587e-05 - val_loss: 2.2114e-05\n",
      "Epoch 53/100\n",
      "226602/226602 [==============================] - 4s 17us/sample - loss: 1.6537e-05 - val_loss: 1.9933e-05\n",
      "Epoch 54/100\n",
      "226602/226602 [==============================] - 4s 17us/sample - loss: 1.6416e-05 - val_loss: 1.9287e-05\n",
      "Epoch 55/100\n",
      "226602/226602 [==============================] - 3s 14us/sample - loss: 1.6233e-05 - val_loss: 2.0578e-05\n",
      "Epoch 56/100\n",
      "226602/226602 [==============================] - 4s 16us/sample - loss: 1.6189e-05 - val_loss: 2.0914e-05\n",
      "Epoch 57/100\n",
      "226602/226602 [==============================] - 3s 15us/sample - loss: 1.6158e-05 - val_loss: 2.0330e-05\n",
      "Epoch 58/100\n",
      "226602/226602 [==============================] - 3s 15us/sample - loss: 1.6031e-05 - val_loss: 2.0618e-05\n",
      "Epoch 59/100\n",
      "226602/226602 [==============================] - 4s 16us/sample - loss: 1.5812e-05 - val_loss: 2.0938e-05\n",
      "Epoch 60/100\n",
      "226602/226602 [==============================] - 3s 13us/sample - loss: 1.5389e-05 - val_loss: 1.8878e-05\n",
      "Epoch 61/100\n",
      "226602/226602 [==============================] - 4s 17us/sample - loss: 1.5146e-05 - val_loss: 2.0261e-05\n",
      "Epoch 62/100\n",
      "226602/226602 [==============================] - 4s 17us/sample - loss: 1.5017e-05 - val_loss: 1.8676e-05\n",
      "Epoch 63/100\n",
      "226602/226602 [==============================] - 4s 18us/sample - loss: 1.4954e-05 - val_loss: 1.8283e-05\n",
      "Epoch 64/100\n",
      "226602/226602 [==============================] - 4s 17us/sample - loss: 1.4852e-05 - val_loss: 1.9141e-05\n",
      "Epoch 65/100\n",
      "226602/226602 [==============================] - 4s 18us/sample - loss: 1.4815e-05 - val_loss: 1.7887e-05\n",
      "Epoch 66/100\n",
      "226602/226602 [==============================] - 3s 14us/sample - loss: 1.4768e-05 - val_loss: 2.2262e-05\n",
      "Epoch 67/100\n",
      "226602/226602 [==============================] - 3s 14us/sample - loss: 1.4735e-05 - val_loss: 1.9322e-05\n",
      "Epoch 68/100\n",
      "226602/226602 [==============================] - 3s 13us/sample - loss: 1.4624e-05 - val_loss: 1.8387e-05\n",
      "Epoch 69/100\n"
     ]
    },
    {
     "name": "stdout",
     "output_type": "stream",
     "text": [
      "226602/226602 [==============================] - 3s 14us/sample - loss: 1.4580e-05 - val_loss: 1.8341e-05\n",
      "Epoch 70/100\n",
      "226602/226602 [==============================] - 3s 13us/sample - loss: 1.4502e-05 - val_loss: 1.8034e-05\n",
      "Epoch 71/100\n",
      "226602/226602 [==============================] - 3s 15us/sample - loss: 1.4506e-05 - val_loss: 1.8445e-05\n",
      "Epoch 72/100\n",
      "226602/226602 [==============================] - 4s 19us/sample - loss: 1.4447e-05 - val_loss: 1.9414e-05\n",
      "Epoch 73/100\n",
      "226602/226602 [==============================] - 4s 18us/sample - loss: 1.4403e-05 - val_loss: 1.7323e-05\n",
      "Epoch 74/100\n",
      "226602/226602 [==============================] - 3s 13us/sample - loss: 1.4374e-05 - val_loss: 1.7367e-05\n",
      "Epoch 75/100\n",
      "226602/226602 [==============================] - 3s 12us/sample - loss: 1.4331e-05 - val_loss: 1.9866e-05\n",
      "Epoch 76/100\n",
      "226602/226602 [==============================] - 3s 12us/sample - loss: 1.4346e-05 - val_loss: 1.9026e-05\n",
      "Epoch 77/100\n",
      "226602/226602 [==============================] - 3s 12us/sample - loss: 1.4171e-05 - val_loss: 1.9104e-05\n",
      "Epoch 78/100\n",
      "226602/226602 [==============================] - 3s 12us/sample - loss: 1.4215e-05 - val_loss: 1.7818e-05\n",
      "Epoch 79/100\n",
      "226602/226602 [==============================] - 3s 13us/sample - loss: 1.4084e-05 - val_loss: 1.9024e-05\n",
      "Epoch 80/100\n",
      "226602/226602 [==============================] - 3s 13us/sample - loss: 1.4059e-05 - val_loss: 1.7620e-05\n",
      "Epoch 81/100\n",
      "226602/226602 [==============================] - 3s 13us/sample - loss: 1.4126e-05 - val_loss: 1.8381e-05\n",
      "Epoch 82/100\n",
      "226602/226602 [==============================] - 3s 14us/sample - loss: 1.4020e-05 - val_loss: 1.7675e-05\n",
      "Epoch 83/100\n",
      "226602/226602 [==============================] - 4s 18us/sample - loss: 1.4064e-05 - val_loss: 1.8621e-05\n",
      "Epoch 84/100\n",
      "226602/226602 [==============================] - 3s 14us/sample - loss: 1.3927e-05 - val_loss: 1.9373e-05\n",
      "Epoch 85/100\n",
      "226602/226602 [==============================] - 4s 16us/sample - loss: 1.3874e-05 - val_loss: 1.7171e-05\n",
      "Epoch 86/100\n",
      "226602/226602 [==============================] - 4s 16us/sample - loss: 1.3854e-05 - val_loss: 1.7657e-05\n",
      "Epoch 87/100\n",
      "226602/226602 [==============================] - 3s 15us/sample - loss: 1.3807e-05 - val_loss: 2.0242e-05\n",
      "Epoch 88/100\n",
      "226602/226602 [==============================] - 4s 15us/sample - loss: 1.3845e-05 - val_loss: 1.7737e-05\n",
      "Epoch 89/100\n",
      "226602/226602 [==============================] - 4s 16us/sample - loss: 1.3774e-05 - val_loss: 1.7252e-05\n",
      "Epoch 90/100\n",
      "226602/226602 [==============================] - 4s 16us/sample - loss: 1.3716e-05 - val_loss: 1.8275e-05\n",
      "Epoch 91/100\n",
      "226602/226602 [==============================] - 4s 16us/sample - loss: 1.3645e-05 - val_loss: 1.8088e-05\n",
      "Epoch 92/100\n",
      "226602/226602 [==============================] - 4s 17us/sample - loss: 1.3621e-05 - val_loss: 2.4762e-05\n",
      "Epoch 93/100\n",
      "226602/226602 [==============================] - 4s 16us/sample - loss: 1.3581e-05 - val_loss: 1.7569e-05\n",
      "Epoch 94/100\n",
      "226602/226602 [==============================] - 4s 16us/sample - loss: 1.3528e-05 - val_loss: 1.7555e-05\n",
      "Epoch 95/100\n",
      "226602/226602 [==============================] - 4s 16us/sample - loss: 1.3428e-05 - val_loss: 1.7452e-05\n",
      "Epoch 96/100\n",
      "226602/226602 [==============================] - 4s 17us/sample - loss: 1.3391e-05 - val_loss: 1.6684e-05\n",
      "Epoch 97/100\n",
      "226602/226602 [==============================] - 4s 16us/sample - loss: 1.3267e-05 - val_loss: 1.7694e-05\n",
      "Epoch 98/100\n",
      "226602/226602 [==============================] - 4s 16us/sample - loss: 1.3269e-05 - val_loss: 1.6602e-05\n",
      "Epoch 99/100\n",
      "226602/226602 [==============================] - 4s 16us/sample - loss: 1.3086e-05 - val_loss: 1.6826e-05\n",
      "Epoch 100/100\n",
      "226602/226602 [==============================] - 4s 16us/sample - loss: 1.2897e-05 - val_loss: 1.6851e-05\n"
     ]
    },
    {
     "data": {
      "text/plain": [
       "<tensorflow.python.keras.callbacks.History at 0x7f651a83d2b0>"
      ]
     },
     "execution_count": 41,
     "metadata": {},
     "output_type": "execute_result"
    }
   ],
   "source": [
    "autoencoder.compile(optimizer='adam', loss='mse')\n",
    "\n",
    "batch_size = 128\n",
    "\n",
    "autoencoder.fit(X_train_pure, X_train_pure,\n",
    "                epochs=100,\n",
    "                batch_size=batch_size,\n",
    "                validation_data=(X_test, X_test))"
   ]
  },
  {
   "cell_type": "code",
   "execution_count": null,
   "metadata": {},
   "outputs": [],
   "source": []
  },
  {
   "cell_type": "markdown",
   "metadata": {},
   "source": [
    "Once the AutoEncoder is trained, compute the mean squared error between the features `X_train` and the predicted features from the AutoEncoder."
   ]
  },
  {
   "cell_type": "code",
   "execution_count": 42,
   "metadata": {},
   "outputs": [],
   "source": [
    "### TODO: Compute the MSE\n",
    "### STRIP_START ###\n",
    "X_train_pred = autoencoder.predict(X_train)\n",
    "### STRIP_END ###"
   ]
  },
  {
   "cell_type": "code",
   "execution_count": 43,
   "metadata": {},
   "outputs": [],
   "source": [
    "from sklearn.metrics import mean_squared_error\n",
    "\n",
    "train_error = np.array([mean_squared_error(gt, pred) for gt,pred in zip(X_train.values, X_train_pred)])"
   ]
  },
  {
   "cell_type": "markdown",
   "metadata": {},
   "source": [
    "Display the mean squared error on a scatter plot (or an histogram) with different colors for the classes."
   ]
  },
  {
   "cell_type": "code",
   "execution_count": 44,
   "metadata": {
    "scrolled": true
   },
   "outputs": [
    {
     "data": {
      "image/png": "[encoded data removed]",
      "text/plain": [
       "<Figure size 432x288 with 1 Axes>"
      ]
     },
     "metadata": {
      "needs_background": "light"
     },
     "output_type": "display_data"
    }
   ],
   "source": [
    "### TODO: Display the errors\n",
    "### STRIP_START ###\n",
    "import matplotlib.pyplot as plt\n",
    "\n",
    "plt.scatter((X_train[y_train==0]).index, train_error[y_train==0], label='normal')\n",
    "plt.scatter((X_train[y_train==1]).index, train_error[y_train==1], label='anomalous')\n",
    "\n",
    "plt.legend()\n",
    "plt.show()\n",
    "### STRIP_END ###"
   ]
  },
  {
   "cell_type": "code",
   "execution_count": 45,
   "metadata": {},
   "outputs": [
    {
     "data": {
      "image/png": "[encoded data removed]",
      "text/plain": [
       "<Figure size 432x288 with 1 Axes>"
      ]
     },
     "metadata": {
      "needs_background": "light"
     },
     "output_type": "display_data"
    }
   ],
   "source": [
    "import matplotlib.pyplot as plt\n",
    "\n",
    "plt.hist(train_error[y_train==0], log=True, alpha=0.5)\n",
    "plt.hist(train_error[y_train==1], log=True, alpha=0.5)\n",
    "plt.show()"
   ]
  },
  {
   "cell_type": "markdown",
   "metadata": {},
   "source": [
    "Is there a difference in the error between normal and abnormal data?\n",
    "\n",
    "Now, using the mean squared error on the test dataset, compute the AUPRC (Area Under Precision Recall Curve) and the Precision Recall Curve."
   ]
  },
  {
   "cell_type": "code",
   "execution_count": 46,
   "metadata": {},
   "outputs": [],
   "source": [
    "### TODO: Compute and display the AUPRC\n",
    "### STRIP_START ###\n",
    "X_test_pred = autoencoder.predict(X_test)\n",
    "test_error = np.array([mean_squared_error(gt, pred) for gt,pred in zip(X_test.values, X_test_pred)])\n",
    "### STRIP_END ###"
   ]
  },
  {
   "cell_type": "code",
   "execution_count": 47,
   "metadata": {},
   "outputs": [],
   "source": []
  },
  {
   "cell_type": "code",
   "execution_count": 48,
   "metadata": {},
   "outputs": [
    {
     "data": {
      "image/png": "[encoded data removed]",
      "text/plain": [
       "<Figure size 432x288 with 1 Axes>"
      ]
     },
     "metadata": {
      "needs_background": "light"
     },
     "output_type": "display_data"
    }
   ],
   "source": [
    "# AUC\n",
    "from sklearn.metrics import roc_curve, auc\n",
    "\n",
    "false_pos_rate, true_pos_rate, thresholds = roc_curve(y_test, test_error)\n",
    "roc_auc = auc(false_pos_rate, true_pos_rate,)\n",
    "\n",
    "plt.plot(false_pos_rate, true_pos_rate, linewidth=5, label='AUC = %0.3f'% roc_auc)\n",
    "plt.plot([0,1],[0,1], linewidth=5)\n",
    "\n",
    "plt.xlim([-0.01, 1])\n",
    "plt.ylim([0, 1.01])\n",
    "plt.legend(loc='lower right')\n",
    "plt.title('Receiver operating characteristic curve (ROC)')\n",
    "plt.ylabel('True Positive Rate')\n",
    "plt.xlabel('False Positive Rate')\n",
    "plt.show()"
   ]
  },
  {
   "cell_type": "code",
   "execution_count": 49,
   "metadata": {},
   "outputs": [
    {
     "data": {
      "image/png": "[encoded data removed]",
      "text/plain": [
       "<Figure size 432x288 with 1 Axes>"
      ]
     },
     "metadata": {
      "needs_background": "light"
     },
     "output_type": "display_data"
    }
   ],
   "source": [
    "# AUPRC\n",
    "from sklearn.metrics import precision_recall_curve\n",
    "\n",
    "precision , recall, threshold = precision_recall_curve(y_test, test_error)\n",
    "auprc = auc(recall, precision)\n",
    "\n",
    "\n",
    "plt.plot(recall, precision, linewidth=5, label='AUPRC = %0.3f'% auprc)\n",
    "\n",
    "plt.xlim([-0.01, 1])\n",
    "plt.ylim([0, 1.01])\n",
    "plt.legend(loc='lower right')\n",
    "plt.title('Precision Recall Curve')\n",
    "plt.ylabel('Precision')\n",
    "plt.xlabel('Recall')\n",
    "plt.show()"
   ]
  },
  {
   "cell_type": "markdown",
   "metadata": {},
   "source": [
    "If you are curious, you can also have a look at the latent distributions, as a function of the class."
   ]
  },
  {
   "cell_type": "code",
   "execution_count": 51,
   "metadata": {},
   "outputs": [],
   "source": [
    "X_train_latent = encoder.predict(X_train)"
   ]
  },
  {
   "cell_type": "code",
   "execution_count": 54,
   "metadata": {},
   "outputs": [
    {
     "data": {
      "image/png": "[encoded data removed]",
      "text/plain": [
       "<Figure size 432x288 with 1 Axes>"
      ]
     },
     "metadata": {
      "needs_background": "light"
     },
     "output_type": "display_data"
    }
   ],
   "source": [
    "\n",
    "plt.scatter(X_train_latent[y_train==0, 0], X_train_latent[y_train==0, 2], label='normal')\n",
    "plt.scatter(X_train_latent[y_train==1, 0], X_train_latent[y_train==1, 2], label='anomalous')\n",
    "\n",
    "plt.legend()\n",
    "plt.show()"
   ]
  }
 ],
 "metadata": {
  "kernelspec": {
   "display_name": "Python 3",
   "language": "python",
   "name": "python3"
  },
  "language_info": {
   "codemirror_mode": {
    "name": "ipython",
    "version": 3
   },
   "file_extension": ".py",
   "mimetype": "text/x-python",
   "name": "python",
   "nbconvert_exporter": "python",
   "pygments_lexer": "ipython3",
   "version": "3.6.7"
  }
 },
 "nbformat": 4,
 "nbformat_minor": 2
}
