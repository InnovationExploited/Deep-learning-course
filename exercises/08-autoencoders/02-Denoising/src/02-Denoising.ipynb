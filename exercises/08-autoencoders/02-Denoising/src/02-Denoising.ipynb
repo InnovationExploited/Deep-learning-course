{
 "cells": [
  {
   "cell_type": "markdown",
   "metadata": {},
   "source": [
    "# 02 Denoising"
   ]
  },
  {
   "cell_type": "markdown",
   "metadata": {},
   "source": [
    "![](https://images.unsplash.com/photo-1548069124-75c4a08968cc?ixlib=rb-1.2.1&ixid=eyJhcHBfaWQiOjEyMDd9&auto=format&fit=crop&w=1050&q=80)\n",
    "\n",
    "Picture by [Anton Scherbakov](https://unsplash.com/photos/ZLBUaIsaY6k)"
   ]
  },
  {
   "cell_type": "markdown",
   "metadata": {},
   "source": [
    "We will here use AutoEncoders for denoising images.\n",
    "\n",
    "The idea is simple: train an autoencoder on noiseless images. Once the autoencoder is trained, input a noisy image, it should output the denoised image.\n",
    "\n",
    "Let's work again with the MNIST fashion dataset. Load it."
   ]
  },
  {
   "cell_type": "markdown",
   "metadata": {},
   "source": [
    "First download the dataset. As a reminder, the labels are the following:\n",
    "* 0:\tT-shirt/top\n",
    "* 1:\tTrouser\n",
    "* 2:\tPullover\n",
    "* 3:\tDress\n",
    "* 4:\tCoat\n",
    "* 5:\tSandal\n",
    "* 6:\tShirt\n",
    "* 7:\tSneaker\n",
    "* 8:\tBag\n",
    "* 9:\tAnkle boot"
   ]
  },
  {
   "cell_type": "code",
   "execution_count": 1,
   "metadata": {},
   "outputs": [
    {
     "data": {
      "text/plain": [
       "<Figure size 640x480 with 1 Axes>"
      ]
     },
     "metadata": {},
     "output_type": "display_data"
    }
   ],
   "source": [
    "### TODO: Import the dataset and display an image\n",
    "### STRIP_START ###\n",
    "from tensorflow.keras.datasets import fashion_mnist\n",
    "import matplotlib.pyplot as plt\n",
    "import numpy as np\n",
    "\n",
    "(X_train, y_train), (X_test, y_test) = fashion_mnist.load_data()\n",
    "X_train = X_train/255.\n",
    "X_test = X_test/255.\n",
    "\n",
    "label_class = ['top', 'trouser', 'pullover', 'dress', 'coat', 'sandal', 'shirt', 'sneaker', 'bag', 'ankle boot']\n",
    "\n",
    "idx = np.random.randint(X_train.shape[0])\n",
    "\n",
    "plt.imshow(X_train[idx], cmap='gray_r')\n",
    "plt.title(label_class[y_train[idx]])\n",
    "plt.show()\n",
    "### STRIP_END ###"
   ]
  },
  {
   "cell_type": "markdown",
   "metadata": {},
   "source": [
    "Build an autoencoder for those images. You can reuse the architecture of the lectures."
   ]
  },
  {
   "cell_type": "code",
   "execution_count": 7,
   "metadata": {},
   "outputs": [],
   "source": [
    "### TODO: Build an autoencoder\n",
    "### STRIP_START ###\n",
    "from tensorflow.keras.layers import Input, Dense\n",
    "from tensorflow.keras.models import Model\n",
    "\n",
    "n_pixels = np.prod(X_train.shape[1:])\n",
    "latent_dim = 128\n",
    "\n",
    "# define the input layer: the pixel values\n",
    "input_img = Input(shape=(n_pixels,))\n",
    "\n",
    "# encode\n",
    "encoded = Dense(latent_dim, activation='relu')(input_img)\n",
    "\n",
    "# decode\n",
    "decoded = Dense(n_pixels, activation='sigmoid')(encoded)\n",
    "\n",
    "# Define the autoencoder model\n",
    "autoencoder = Model(input_img, decoded)\n",
    "\n",
    "# Define de encoder model\n",
    "encoder = Model(input_img, encoded)\n",
    "\n",
    "# Define de decoder model\n",
    "# create a placeholder for an encoded (32-dimensional) input\n",
    "encoded_input = Input(shape=(latent_dim,))\n",
    "# retrieve the last layer of the autoencoder model\n",
    "decoder_layer = autoencoder.layers[-1]\n",
    "# create the decoder model\n",
    "decoder = Model(encoded_input, decoder_layer(encoded_input))\n",
    "### STRIP_END ###"
   ]
  },
  {
   "cell_type": "markdown",
   "metadata": {},
   "source": [
    "Now compile and train your AutoEncoder using the fashion data."
   ]
  },
  {
   "cell_type": "code",
   "execution_count": 8,
   "metadata": {},
   "outputs": [
    {
     "name": "stdout",
     "output_type": "stream",
     "text": [
      "Train on 60000 samples, validate on 10000 samples\n",
      "Epoch 1/20\n",
      "60000/60000 [==============================] - 2s 37us/sample - loss: 0.0458 - val_loss: 0.0247\n",
      "Epoch 2/20\n",
      "60000/60000 [==============================] - 2s 34us/sample - loss: 0.0203 - val_loss: 0.0169\n",
      "Epoch 3/20\n",
      "60000/60000 [==============================] - 2s 36us/sample - loss: 0.0147 - val_loss: 0.0131\n",
      "Epoch 4/20\n",
      "60000/60000 [==============================] - 2s 37us/sample - loss: 0.0120 - val_loss: 0.0112\n",
      "Epoch 5/20\n",
      "60000/60000 [==============================] - 3s 43us/sample - loss: 0.0104 - val_loss: 0.0099\n",
      "Epoch 6/20\n",
      "60000/60000 [==============================] - 3s 43us/sample - loss: 0.0094 - val_loss: 0.0092\n",
      "Epoch 7/20\n",
      "60000/60000 [==============================] - 3s 43us/sample - loss: 0.0088 - val_loss: 0.0086\n",
      "Epoch 8/20\n",
      "60000/60000 [==============================] - 3s 43us/sample - loss: 0.0083 - val_loss: 0.0082\n",
      "Epoch 9/20\n",
      "60000/60000 [==============================] - 3s 43us/sample - loss: 0.0079 - val_loss: 0.0078\n",
      "Epoch 10/20\n",
      "60000/60000 [==============================] - 3s 43us/sample - loss: 0.0076 - val_loss: 0.0076\n",
      "Epoch 11/20\n",
      "60000/60000 [==============================] - 3s 44us/sample - loss: 0.0073 - val_loss: 0.0072\n",
      "Epoch 12/20\n",
      "60000/60000 [==============================] - 3s 44us/sample - loss: 0.0070 - val_loss: 0.0070\n",
      "Epoch 13/20\n",
      "60000/60000 [==============================] - 3s 44us/sample - loss: 0.0068 - val_loss: 0.0068\n",
      "Epoch 14/20\n",
      "60000/60000 [==============================] - 3s 44us/sample - loss: 0.0066 - val_loss: 0.0067\n",
      "Epoch 15/20\n",
      "60000/60000 [==============================] - 3s 45us/sample - loss: 0.0065 - val_loss: 0.0066\n",
      "Epoch 16/20\n",
      "60000/60000 [==============================] - 3s 43us/sample - loss: 0.0064 - val_loss: 0.0065\n",
      "Epoch 17/20\n",
      "60000/60000 [==============================] - 3s 44us/sample - loss: 0.0063 - val_loss: 0.0063\n",
      "Epoch 18/20\n",
      "60000/60000 [==============================] - 3s 44us/sample - loss: 0.0062 - val_loss: 0.0063\n",
      "Epoch 19/20\n",
      "60000/60000 [==============================] - 3s 50us/sample - loss: 0.0061 - val_loss: 0.0062\n",
      "Epoch 20/20\n",
      "60000/60000 [==============================] - 3s 44us/sample - loss: 0.0060 - val_loss: 0.0061\n"
     ]
    },
    {
     "data": {
      "text/plain": [
       "<tensorflow.python.keras.callbacks.History at 0x7f8d4471f0f0>"
      ]
     },
     "execution_count": 8,
     "metadata": {},
     "output_type": "execute_result"
    }
   ],
   "source": [
    "### TODO: Train the autoencoder\n",
    "### STRIP_START ###\n",
    "\n",
    "X_train_flat = X_train.reshape(X_train.shape[0], np.prod(X_train.shape[1:]))\n",
    "X_test_flat = X_test.reshape(X_test.shape[0], np.prod(X_test.shape[1:]))\n",
    "\n",
    "autoencoder.compile(optimizer='adam', loss='mse')\n",
    "\n",
    "batch_size = 256\n",
    "\n",
    "autoencoder.fit(X_train_flat, X_train_flat,\n",
    "                epochs=20,\n",
    "                batch_size=batch_size,\n",
    "                validation_data=(X_test_flat, X_test_flat))\n",
    "### STRIP_END ###"
   ]
  },
  {
   "cell_type": "markdown",
   "metadata": {},
   "source": [
    "Check out how your model worked: display some pairs of input and output images."
   ]
  },
  {
   "cell_type": "code",
   "execution_count": 11,
   "metadata": {},
   "outputs": [
    {
     "data": {
      "text/plain": [
       "(-0.5, 27.5, 27.5, -0.5)"
      ]
     },
     "execution_count": 11,
     "metadata": {},
     "output_type": "execute_result"
    },
    {
     "data": {
      "image/png": "[encoded data removed]",
      "text/plain": [
       "<Figure size 432x288 with 2 Axes>"
      ]
     },
     "metadata": {
      "needs_background": "light"
     },
     "output_type": "display_data"
    }
   ],
   "source": [
    "### TODO: Display some reconstructed images\n",
    "### STRIP_START ###\n",
    "X_pred = autoencoder.predict(X_test_flat)\n",
    "\n",
    "idx = np.random.randint(X_test.shape[0])\n",
    "\n",
    "plt.subplot(121)\n",
    "plt.imshow(X_test[idx], cmap = plt.cm.gray)\n",
    "plt.title('original image')\n",
    "plt.axis('off')\n",
    "plt.subplot(122)\n",
    "plt.imshow(X_pred[idx].reshape(X_test.shape[1], X_test.shape[1]), cmap = plt.cm.gray)\n",
    "plt.title('reconstructed image')\n",
    "plt.axis('off')\n",
    "\n",
    "### STRIP_END ###"
   ]
  },
  {
   "cell_type": "markdown",
   "metadata": {},
   "source": [
    "We have defined below a function to add noise."
   ]
  },
  {
   "cell_type": "code",
   "execution_count": 33,
   "metadata": {},
   "outputs": [],
   "source": [
    "def add_noise(X_train, noise_factor=0.4):\n",
    "\n",
    "    X_train_noisy = X_train + noise_factor * np.random.normal(loc=0.0, scale=1.0*X_train.max(), size=X_train.shape) \n",
    "    X_train_noisy = np.clip(X_train_noisy, 0., 1.)\n",
    "\n",
    "    return X_train_noisy"
   ]
  },
  {
   "cell_type": "markdown",
   "metadata": {},
   "source": [
    "Use this function to create a noisy dataset of the test images. Display some noisy images."
   ]
  },
  {
   "cell_type": "code",
   "execution_count": 35,
   "metadata": {},
   "outputs": [
    {
     "data": {
      "image/png": "[encoded data removed]",
      "text/plain": [
       "<Figure size 432x288 with 1 Axes>"
      ]
     },
     "metadata": {
      "needs_background": "light"
     },
     "output_type": "display_data"
    }
   ],
   "source": [
    "### TODO: Create a noisy dataset\n",
    "### STRIP_START ###\n",
    "X_test_noisy = add_noise(X_test)\n",
    "\n",
    "idx = np.random.randint(X_test_noisy.shape[0])\n",
    "\n",
    "plt.imshow(X_test_noisy[idx], cmap='gray_r')\n",
    "plt.title(label_class[y_test[idx]])\n",
    "plt.show()\n",
    "### STRIP_END ###"
   ]
  },
  {
   "cell_type": "markdown",
   "metadata": {},
   "source": [
    "If you used the default `noise_factor` parameter, you should barely distinguish the classes by eye."
   ]
  },
  {
   "cell_type": "markdown",
   "metadata": {},
   "source": [
    "Now try using your autoencoder: use the autoencoder with the noisy images as input."
   ]
  },
  {
   "cell_type": "code",
   "execution_count": 36,
   "metadata": {},
   "outputs": [],
   "source": [
    "### TODO: Use the autoencoder to denoise images\n",
    "### STRIP_START ###\n",
    "X_test_noisy_flat = X_test_noisy.reshape(X_test_noisy.shape[0], np.prod(X_test_noisy.shape[1:]))\n",
    "\n",
    "denoised_images = autoencoder.predict(X_test_noisy_flat)\n",
    "### STRIP_END ###"
   ]
  },
  {
   "cell_type": "markdown",
   "metadata": {},
   "source": [
    "Now display side by side a noisy image and the denoised image."
   ]
  },
  {
   "cell_type": "code",
   "execution_count": 40,
   "metadata": {},
   "outputs": [
    {
     "data": {
      "text/plain": [
       "(-0.5, 27.5, 27.5, -0.5)"
      ]
     },
     "execution_count": 40,
     "metadata": {},
     "output_type": "execute_result"
    },
    {
     "data": {
      "image/png": "[encoded data removed]",
      "text/plain": [
       "<Figure size 432x288 with 2 Axes>"
      ]
     },
     "metadata": {
      "needs_background": "light"
     },
     "output_type": "display_data"
    }
   ],
   "source": [
    "### TODO: Display side by side the noisy and denoised images\n",
    "### STRIP_START ###\n",
    "idx = np.random.randint(X_test_noisy_flat.shape[0])\n",
    "\n",
    "plt.subplot(121)\n",
    "plt.imshow(X_test_noisy[idx], cmap = 'gray_r')\n",
    "plt.title('Noisy image')\n",
    "plt.axis('off')\n",
    "plt.subplot(122)\n",
    "plt.imshow(denoised_images[idx].reshape(X_test_noisy.shape[1], X_test_noisy.shape[2]), cmap = 'gray_r')\n",
    "plt.title('Denoised image')\n",
    "plt.axis('off')\n",
    "### STRIP_END ###"
   ]
  },
  {
   "cell_type": "markdown",
   "metadata": {},
   "source": [
    "How did that work?"
   ]
  },
  {
   "cell_type": "markdown",
   "metadata": {},
   "source": [
    "## Optional\n",
    "\n",
    "You can get better results using CNN autoencoder instead of regular autoencoder.\n",
    "\n",
    "If you have time, you can have a try. You might need to use the `UpSampling2D` layer."
   ]
  },
  {
   "cell_type": "code",
   "execution_count": 69,
   "metadata": {},
   "outputs": [],
   "source": [
    "### TODO: Redo the exercise with a CNN autoencoder\n",
    "### STRIP_START ###\n",
    "from tensorflow.keras.layers import Input, Dense, Conv2D, MaxPooling2D, UpSampling2D\n",
    "from tensorflow.keras.models import Model\n",
    "from tensorflow.keras import backend as K\n",
    "\n",
    "input_img = Input(shape=(28, 28, 1))  # adapt this if using `channels_first` image data format\n",
    "\n",
    "x = Conv2D(16, (3, 3), activation='relu', padding='same')(input_img)\n",
    "x = MaxPooling2D((2, 2), padding='same')(x)\n",
    "#x = Conv2D(8, (3, 3), activation='relu', padding='same')(x)\n",
    "#x = MaxPooling2D((2, 2), padding='same')(x)\n",
    "x = Conv2D(8, (3, 3), activation='relu', padding='same')(x)\n",
    "encoded = MaxPooling2D((2, 2), padding='same')(x)\n",
    "\n",
    "x = Conv2D(8, (3, 3), activation='relu', padding='same')(encoded)\n",
    "x = UpSampling2D((2, 2))(x)\n",
    "#x = Conv2D(8, (3, 3), activation='relu', padding='same')(x)\n",
    "#x = UpSampling2D((2, 2))(x)\n",
    "x = Conv2D(16, (3, 3), activation='relu', padding='same')(x)\n",
    "x = UpSampling2D((2, 2))(x)\n",
    "decoded = Conv2D(1, (3, 3), activation='sigmoid', padding='same')(x)\n",
    "\n",
    "autoencoder = Model(input_img, decoded)\n",
    "autoencoder.compile(optimizer='adadelta', loss='mse')\n",
    "### STRIP_END ###"
   ]
  },
  {
   "cell_type": "code",
   "execution_count": 70,
   "metadata": {},
   "outputs": [
    {
     "name": "stdout",
     "output_type": "stream",
     "text": [
      "Train on 60000 samples, validate on 10000 samples\n",
      "Epoch 1/10\n",
      "60000/60000 [==============================] - 49s 812us/sample - loss: 0.0329 - val_loss: 0.0220\n",
      "Epoch 2/10\n",
      "60000/60000 [==============================] - 49s 817us/sample - loss: 0.0188 - val_loss: 0.0166\n",
      "Epoch 3/10\n",
      "60000/60000 [==============================] - 48s 807us/sample - loss: 0.0157 - val_loss: 0.0145\n",
      "Epoch 4/10\n",
      "60000/60000 [==============================] - 49s 812us/sample - loss: 0.0142 - val_loss: 0.0138\n",
      "Epoch 5/10\n",
      "60000/60000 [==============================] - 49s 813us/sample - loss: 0.0133 - val_loss: 0.0135\n",
      "Epoch 6/10\n",
      "60000/60000 [==============================] - 49s 811us/sample - loss: 0.0126 - val_loss: 0.0121\n",
      "Epoch 7/10\n",
      "60000/60000 [==============================] - 49s 819us/sample - loss: 0.0121 - val_loss: 0.0124\n",
      "Epoch 8/10\n",
      "60000/60000 [==============================] - 49s 821us/sample - loss: 0.0117 - val_loss: 0.0113\n",
      "Epoch 9/10\n",
      "60000/60000 [==============================] - 49s 818us/sample - loss: 0.0113 - val_loss: 0.0114\n",
      "Epoch 10/10\n",
      "60000/60000 [==============================] - 49s 820us/sample - loss: 0.0111 - val_loss: 0.0109\n"
     ]
    },
    {
     "data": {
      "text/plain": [
       "<tensorflow.python.keras.callbacks.History at 0x7f8d015612b0>"
      ]
     },
     "execution_count": 70,
     "metadata": {},
     "output_type": "execute_result"
    }
   ],
   "source": [
    "X_train = X_train.reshape(X_train.shape[0], X_train.shape[1], X_train.shape[2], 1)\n",
    "X_test = X_test.reshape(X_test.shape[0], X_test.shape[1], X_test.shape[2], 1)\n",
    "\n",
    "autoencoder.fit(X_train, X_train,\n",
    "                epochs=10,\n",
    "                batch_size=128,\n",
    "                validation_data=(X_test, X_test))"
   ]
  },
  {
   "cell_type": "code",
   "execution_count": 71,
   "metadata": {},
   "outputs": [],
   "source": [
    "denoised_images = autoencoder.predict(X_test_noisy.reshape(X_test_noisy.shape[0], X_test_noisy.shape[1], X_test_noisy.shape[2], 1))"
   ]
  },
  {
   "cell_type": "code",
   "execution_count": 77,
   "metadata": {},
   "outputs": [
    {
     "data": {
      "text/plain": [
       "(-0.5, 27.5, 27.5, -0.5)"
      ]
     },
     "execution_count": 77,
     "metadata": {},
     "output_type": "execute_result"
    },
    {
     "data": {
      "image/png": "[encoded data removed]",
      "text/plain": [
       "<Figure size 432x288 with 2 Axes>"
      ]
     },
     "metadata": {
      "needs_background": "light"
     },
     "output_type": "display_data"
    }
   ],
   "source": [
    "idx = np.random.randint(X_test_noisy_flat.shape[0])\n",
    "\n",
    "plt.subplot(121)\n",
    "plt.imshow(X_test_noisy[idx], cmap = 'gray_r')\n",
    "plt.title('Noisy image')\n",
    "plt.axis('off')\n",
    "plt.subplot(122)\n",
    "plt.imshow(denoised_images[idx].reshape(28, 28), cmap = 'gray_r')\n",
    "plt.title('Denoised image')\n",
    "plt.axis('off')"
   ]
  },
  {
   "cell_type": "code",
   "execution_count": null,
   "metadata": {},
   "outputs": [],
   "source": []
  }
 ],
 "metadata": {
  "kernelspec": {
   "display_name": "Python 3",
   "language": "python",
   "name": "python3"
  },
  "language_info": {
   "codemirror_mode": {
    "name": "ipython",
    "version": 3
   },
   "file_extension": ".py",
   "mimetype": "text/x-python",
   "name": "python",
   "nbconvert_exporter": "python",
   "pygments_lexer": "ipython3",
   "version": "3.6.7"
  }
 },
 "nbformat": 4,
 "nbformat_minor": 2
}
